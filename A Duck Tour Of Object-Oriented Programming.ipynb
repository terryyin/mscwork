{
 "metadata": {
  "name": "",
  "signature": "sha256:5c7a903519e97ad3db2b0bef717bcb4341c2f00245bf57780209830966030387"
 },
 "nbformat": 3,
 "nbformat_minor": 0,
 "worksheets": [
  {
   "cells": [
    {
     "cell_type": "markdown",
     "metadata": {},
     "source": [
      "<img src=\"resources/ducktour.jpg\" width=\"30%\">"
     ]
    },
    {
     "cell_type": "markdown",
     "metadata": {},
     "source": [
      "Welcome on board our programming duck tour! But, wait a minute, just what is a duck?"
     ]
    },
    {
     "cell_type": "heading",
     "level": 1,
     "metadata": {},
     "source": [
      "The Object-Oriented Tour"
     ]
    },
    {
     "cell_type": "heading",
     "level": 2,
     "metadata": {},
     "source": [
      "Class and method"
     ]
    },
    {
     "cell_type": "markdown",
     "metadata": {},
     "source": [
      "Well, duck is a general kind of bird. In object-oriented programming term, `Duck` is a **class**. \n",
      "\n",
      "Python is a programming language that supports multiple **paradigms**, like structured programming and object-oriented programming, <cite data-cite=\"wiki:python\"></cite>. I will use Python 2.7 as the introduction language here.\n",
      "\n",
      "This is how you define a class in Python:"
     ]
    },
    {
     "cell_type": "code",
     "collapsed": false,
     "input": [
      "class Duck:\n",
      "    pass"
     ],
     "language": "python",
     "metadata": {},
     "outputs": [],
     "prompt_number": 50
    },
    {
     "cell_type": "markdown",
     "metadata": {},
     "source": [
      "The keyword `pass` here means to skip the content definition of the class."
     ]
    },
    {
     "cell_type": "markdown",
     "metadata": {},
     "source": [
      "What does a duck do? It `quack`s and `walk`s. So, let's define these behaviours of the duck class:"
     ]
    },
    {
     "cell_type": "code",
     "collapsed": false,
     "input": [
      "class Duck:\n",
      "    def quack(self):\n",
      "        print \"quack\"\n",
      "    def walk(self):\n",
      "        print \"walk\""
     ],
     "language": "python",
     "metadata": {},
     "outputs": [],
     "prompt_number": 30
    },
    {
     "cell_type": "heading",
     "level": 2,
     "metadata": {},
     "source": [
      "Inheritance"
     ]
    },
    {
     "cell_type": "markdown",
     "metadata": {},
     "source": [
      "But `Duck` is still too general. There are more specific types of ducks. For example, `DomesticDuck` is a type of duck. `MandarinDuck` is another type of duck. The \"**is a**\" relationship in OO programming is called **inheritance**. \n",
      "\n",
      "<img src=\"resources/inh.png\" width=\"30%\">\n",
      "\n",
      "In Python:"
     ]
    },
    {
     "cell_type": "code",
     "collapsed": false,
     "input": [
      "class DomesticDuck(Duck):\n",
      "    pass\n",
      "\n",
      "class MandarinDuck(Duck):\n",
      "    pass"
     ],
     "language": "python",
     "metadata": {},
     "outputs": [],
     "prompt_number": 44
    },
    {
     "cell_type": "markdown",
     "metadata": {},
     "source": [
      "Then we can say A `DomesticDuck` **is a** `Duck`, because `DomesticDuck` is **derived** from the `Duck` class. This is especially important for **strong typed** language, e.g. Java & C++. Because in strong typed language, only the instance of the `Duck` class or its derived classes are considered duck. Not matter how similar it is to a duck, as long as it doesn't have the class `Duck` in its inheritance hierarchy, it's not a duck. However in a **dynamic programming language**, like Python, as long as the object has the `quack` method and `walk` method that we need, we can consider it a duck without needing inheritance. Or \"if it walks like a duck and quacks like a duck, it is a duck.\" This is called **duck typing**, <cite data-cite=\"wiki:ducktyping\"></cite>."
     ]
    },
    {
     "cell_type": "heading",
     "level": 2,
     "metadata": {},
     "source": [
      "Object"
     ]
    },
    {
     "cell_type": "markdown",
     "metadata": {},
     "source": [
      "So an instance of a class could have other values as its member. We just used the term **instance**. It also has another name, **object**. A domestic duck is an instance of the `DomesticDuck` class. Let's create two `DomesticDuck` instances:"
     ]
    },
    {
     "cell_type": "code",
     "collapsed": false,
     "input": [
      "jimmy = DomesticDuck()\n",
      "tommy = DomesticDuck()"
     ],
     "language": "python",
     "metadata": {},
     "outputs": [],
     "prompt_number": 40
    },
    {
     "cell_type": "heading",
     "level": 2,
     "metadata": {},
     "source": [
      "Polymorphism"
     ]
    },
    {
     "cell_type": "markdown",
     "metadata": {},
     "source": [
      "Although we didn't define method `quack` for the class `DomesticDuck`, it inherits the method from its **parent class** (another name for derrived class) `Duck`. We can also override the method in a **subclass**. Let's say the `DomesticDuck`s are noisier than other ducks:"
     ]
    },
    {
     "cell_type": "code",
     "collapsed": false,
     "input": [
      "class DomesticDuck(Duck):\n",
      "    def quack(self):\n",
      "        print \"quack-quack-quack\""
     ],
     "language": "python",
     "metadata": {},
     "outputs": [],
     "prompt_number": 47
    },
    {
     "cell_type": "markdown",
     "metadata": {},
     "source": [
      "Now the `DomsticDuck` shares the same **interface** `quack` as the more generic `Duck`, but has different behaviours. This is called **polymorphism**."
     ]
    },
    {
     "cell_type": "code",
     "collapsed": false,
     "input": [
      "jimmy = DomesticDuck()\n",
      "romeo = MandarinDuck()\n",
      "jimmy.quack()\n",
      "romeo.quack()"
     ],
     "language": "python",
     "metadata": {},
     "outputs": [
      {
       "output_type": "stream",
       "stream": "stdout",
       "text": [
        "quack-quack-quack\n",
        "quack\n"
       ]
      }
     ],
     "prompt_number": 48
    },
    {
     "cell_type": "heading",
     "level": 2,
     "metadata": {},
     "source": [
      "Composition"
     ]
    },
    {
     "cell_type": "markdown",
     "metadata": {},
     "source": [
      "A domestic duck unlike the wild ducks, they have owners. So a `DomesticDuck` **has an** owner. In Python, that could be expressed by:"
     ]
    },
    {
     "cell_type": "code",
     "collapsed": false,
     "input": [
      "class DomesticDuck(Duck):\n",
      "    def __init__(self):\n",
      "        self.owner = \"the nature\""
     ],
     "language": "python",
     "metadata": {},
     "outputs": [],
     "prompt_number": 21
    },
    {
     "cell_type": "markdown",
     "metadata": {},
     "source": [
      "Then we can access the **method** and **property** we defined for the class:"
     ]
    },
    {
     "cell_type": "code",
     "collapsed": false,
     "input": [
      "jimmy.owner = \"Terry\"\n",
      "print \"Jimmy duck belongs to\", jimmy.owner"
     ],
     "language": "python",
     "metadata": {},
     "outputs": [
      {
       "output_type": "stream",
       "stream": "stdout",
       "text": [
        "Jimmy duck belongs to Terry\n"
       ]
      }
     ],
     "prompt_number": 49
    },
    {
     "cell_type": "markdown",
     "metadata": {},
     "source": [
      "The `owner` information is a field composes the `DomesticDuck` instances. For this kind of **has a** relationship, we call it **composition**. There's another type of composition. Considering ducks could have 0 to n children."
     ]
    },
    {
     "cell_type": "code",
     "collapsed": false,
     "input": [
      "class DomesticDuck(Duck):\n",
      "    def __init__(self):\n",
      "        self.owner = \"the nature\"\n",
      "        self.children = [] # a list of 0 to n other ducks"
     ],
     "language": "python",
     "metadata": {},
     "outputs": [],
     "prompt_number": 16
    },
    {
     "cell_type": "markdown",
     "metadata": {},
     "source": [
      "The children ducks are not information that composes a (mother) duck, but only related to the (mother) duck. This is also a **has a** (or, has many) relationship. We call it **aggregation**."
     ]
    },
    {
     "cell_type": "heading",
     "level": 2,
     "metadata": {},
     "source": [
      "Encapsulation"
     ]
    },
    {
     "cell_type": "markdown",
     "metadata": {},
     "source": [
      "Children ducks follow mother duck. So the behaviour of a duck could be:"
     ]
    },
    {
     "cell_type": "code",
     "collapsed": false,
     "input": [
      "class DomesticDuck(Duck):\n",
      "    \n",
      "    def __init__(self):\n",
      "        self.owner = \"the nature\"\n",
      "        self.children = [] # a list of 0 to n other ducks\n",
      "    \n",
      "    def walk(self):\n",
      "        for child in self.children:\n",
      "            child.walk()"
     ],
     "language": "python",
     "metadata": {},
     "outputs": [],
     "prompt_number": 17
    },
    {
     "cell_type": "markdown",
     "metadata": {},
     "source": [
      "Now when you call the `move` method on a mother duck, `motherDuck.move()` all its chidren, if there is any, will also move. We group the children information and the operation on the information together in the `DomesticDuck` class. This is called **Encapsulation**."
     ]
    },
    {
     "cell_type": "heading",
     "level": 2,
     "metadata": {},
     "source": [
      "Information hiding"
     ]
    },
    {
     "cell_type": "markdown",
     "metadata": {},
     "source": [
      "I think that's enough about duck. Let's talk about the duck tour. A \"duck tour\" is a sightseeing tour on a special vehicle that goes on both land and water, which can be found in cities like Singapore and San Francisco. But let's make a simple version of \"duck tour\", which is the tour of a happy duck."
     ]
    },
    {
     "cell_type": "code",
     "collapsed": false,
     "input": [
      "def duck_tour(duck):\n",
      "    duck.quack()\n",
      "    duck.walk()\n",
      "    duck.quack()\n",
      "    duck.quack()\n",
      "    duck.walk()\n",
      "    duck.quack()\n",
      "    duck.quack()\n",
      "    duck.quack()\n",
      "    duck.walk()"
     ],
     "language": "python",
     "metadata": {},
     "outputs": [],
     "prompt_number": 38
    },
    {
     "cell_type": "markdown",
     "metadata": {},
     "source": [
      "In the `duck_tour` function, it takes one parameter `duck`. What duck is it? This function doesn't care. It only \"talks\" to the duck using the interface `quack` and `walk`. The detailed implementation of `quack` and `walk` is hiding from function `duck_tour`. This is called **information hiding**, <cite data-cite=\"colburn2007abstraction\"></cite>."
     ]
    },
    {
     "cell_type": "code",
     "collapsed": false,
     "input": [
      "duck_tour(jimmy)"
     ],
     "language": "python",
     "metadata": {},
     "outputs": [
      {
       "output_type": "stream",
       "stream": "stdout",
       "text": [
        "quack quack quack\n",
        "walk\n",
        "quack quack quack\n",
        "quack quack quack\n",
        "walk\n",
        "quack quack quack\n",
        "quack quack quack\n",
        "quack quack quack\n",
        "walk\n"
       ]
      }
     ],
     "prompt_number": 41
    },
    {
     "cell_type": "heading",
     "level": 1,
     "metadata": {},
     "source": [
      "Structured programming"
     ]
    },
    {
     "cell_type": "markdown",
     "metadata": {},
     "source": [
      "The previous `duck_tour` function doesn't belong to any class or object. It's a set of statements that is set aside from the states it operates. We call this the **structured programming**. Our function could be improved to have better structure by introducing a loop:"
     ]
    },
    {
     "cell_type": "code",
     "collapsed": false,
     "input": [
      "def duck_tour(duck):\n",
      "    for i in range(1, 4):\n",
      "        for _ in range(i):\n",
      "            duck.quack()\n",
      "        duck.walk()"
     ],
     "language": "python",
     "metadata": {},
     "outputs": [],
     "prompt_number": 35
    },
    {
     "cell_type": "heading",
     "level": 1,
     "metadata": {},
     "source": [
      "The duck tour story is just an analogy!"
     ]
    },
    {
     "cell_type": "markdown",
     "metadata": {},
     "source": [
      "You might like the duck tour story and examples because it helped you to understand the object-oriented programming concepts (hopefully). But it's important to remember: **The duck story is not OO programming. It's only an analogy of OO programming**. OO programming is NOT to model the real world. It's a programming paradigm that lowers the coupling in the program by creating cohesive objects. So it rather depends on how the information inside a program related to each other and communicate with each other. It's just sometimes coincidentally similar to the concepts we see in a real world."
     ]
    },
    {
     "cell_type": "heading",
     "level": 1,
     "metadata": {},
     "source": [
      "Conclusion"
     ]
    },
    {
     "cell_type": "markdown",
     "metadata": {},
     "source": [
      "I couldn't found any evidence that the OO programming really improved anything overall, comparing to structured programming. It is true that I know quite many good OO design principles and patterns that could make very good OO design. But I might be able to make the similar quality and maintainable design with structured programming style as well. And what really happened is program written in traditional OO language like C++ is sometimes even harder to be maintained than in simple structured programming language like C. Becuase traditional OO language is usually harder to master than structured language. A Peking Duck is also called a duck, but it doesn't quack and it doesn't walk. It tastes good though. This will confuse a lot of so-called OO programmers.\n",
      "\n",
      "<img src=\"resources/pekingduck.jpg\" width=\"15%\">"
     ]
    },
    {
     "cell_type": "markdown",
     "metadata": {},
     "source": [
      "Does that mean we should abandon OO programming? I don't think that's going to happen. My personal opinion is, if you are using an OO language, you need to do proper OO design. Otherwise, things only get worse. If you are using a more flexible language, As Kevlin Henney said, the programming **paradigms** are probably not that important. We may have a hybrid of all different **styles**, <cite data-cite=\"kevlin\"></cite>. We can borrow things from any paradigm as long as it's good."
     ]
    },
    {
     "cell_type": "markdown",
     "metadata": {},
     "source": [
      "This paper is created using IPython Notebook, <cite data-cite=\"PER-GRA:2007\"></cite>."
     ]
    }
   ],
   "metadata": {}
  }
 ]
}