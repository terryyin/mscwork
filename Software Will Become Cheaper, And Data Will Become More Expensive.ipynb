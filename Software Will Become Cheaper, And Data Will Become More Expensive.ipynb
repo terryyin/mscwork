{
 "metadata": {
  "name": "",
  "signature": "sha256:12b9010a1db42e5aecf5573dbb06fcf6ddfea9611adaae11876abaa78ba23f28"
 },
 "nbformat": 3,
 "nbformat_minor": 0,
 "worksheets": [
  {
   "cells": [
    {
     "cell_type": "raw",
     "metadata": {},
     "source": [
      "\\begin{abstract}"
     ]
    },
    {
     "cell_type": "markdown",
     "metadata": {},
     "source": [
      "We pay the same amount of money but can always get more features from the software than before. Software will become even cheaper in the future if not completely free. On the other hand, the data we use to feed the software will become the core assets and more expensive. This article will try to verify this trend. It also discusses some of the problems we will face when the software become very cheap and the data become very expensive."
     ]
    },
    {
     "cell_type": "raw",
     "metadata": {},
     "source": [
      "\\end{abstract}"
     ]
    },
    {
     "cell_type": "heading",
     "level": 1,
     "metadata": {},
     "source": [
      "The trend of computer science"
     ]
    },
    {
     "cell_type": "markdown",
     "metadata": {},
     "source": [
      "Computer Sciences was considered about machines and their peripheral equipment. Edsger Dijkstra in his book <cite data-cite=\"dijkstra1986cultural\"></cite> says:\n",
      "\n",
      "> The job [of operating or using a computer] was actually beyond the electronic technology of the day, and, as a result, the question of how to get and keep the physical equipment more or less in working condition became in the early days the all-overriding concern. As a result, the topic became \u2014primarily in the USA\u2014 prematurely known as \"computer science\" \u2014which, actually is like referring to surgery as \"knife science\"\u2014 and it was firmly implanted in people's minds that computing science is about machines and their peripheral equipment. Quod non [Latin: \"Which is not true\"]"
     ]
    },
    {
     "cell_type": "markdown",
     "metadata": {},
     "source": [
      "And now Computer Science is defined as \"the science of algorithms.\" <cite data-cite=\"[p.10]brookshear1997computer\"></cite>"
     ]
    },
    {
     "cell_type": "markdown",
     "metadata": {},
     "source": [
      "Perhaps, in the future Computer Science will move on to be \"the science of data\"."
     ]
    },
    {
     "cell_type": "heading",
     "level": 1,
     "metadata": {},
     "source": [
      "Software Products Are Becoming Cheaper"
     ]
    },
    {
     "cell_type": "markdown",
     "metadata": {},
     "source": [
      "Software is getting cheaper. We pay the similar amount of money to get a lot more powerful software than before. And the software will become even cheaper."
     ]
    },
    {
     "cell_type": "heading",
     "level": 2,
     "metadata": {},
     "source": [
      "The trend of open source software (and hardware)"
     ]
    },
    {
     "cell_type": "markdown",
     "metadata": {},
     "source": [
      "People are creating more and more open source software, and the rate of open source software usage is also increasing <cite data-cite=\"opensource\"></cite>."
     ]
    },
    {
     "cell_type": "heading",
     "level": 2,
     "metadata": {},
     "source": [
      "Software are getting smarter and more around data"
     ]
    },
    {
     "cell_type": "heading",
     "level": 2,
     "metadata": {},
     "source": [
      "Will cheap software hurts the industry?"
     ]
    },
    {
     "cell_type": "markdown",
     "metadata": {},
     "source": [
      "In an Internet company I've worked with (Dianping.com), although they didn't open source their software, they don't really care much about protecting it either. There's only one small piece of software that is kept secret within just a few people, and that is the rule of ranking their customers. If their customers know the ranking rules, they may cheat. That software is rather just some very simple code, and we can arguably say it's also data."
     ]
    },
    {
     "cell_type": "heading",
     "level": 1,
     "metadata": {},
     "source": [
      "Data will become more expensive"
     ]
    },
    {
     "cell_type": "heading",
     "level": 2,
     "metadata": {},
     "source": [
      "Data will become more useful"
     ]
    },
    {
     "cell_type": "markdown",
     "metadata": {},
     "source": [
      "As the advancing of computer technology, data will do better in \"speaking for themselves\" <cite data-cite=\"gould1981letting\"></cite>."
     ]
    },
    {
     "cell_type": "heading",
     "level": 2,
     "metadata": {},
     "source": [
      "Data is the core assets of companies and governments"
     ]
    },
    {
     "cell_type": "heading",
     "level": 2,
     "metadata": {},
     "source": [
      "Data ethics"
     ]
    },
    {
     "cell_type": "markdown",
     "metadata": {},
     "source": [
      "When things are expensive things, there will be ethical problems. <cite data-cite=\"richards2014big\"></cite>"
     ]
    },
    {
     "cell_type": "heading",
     "level": 1,
     "metadata": {},
     "source": [
      "Conclusion"
     ]
    }
   ],
   "metadata": {}
  }
 ]
}