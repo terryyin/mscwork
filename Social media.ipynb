{
 "metadata": {
  "name": "",
  "signature": "sha256:471bc381b350c2c4f5d3371e59694d84b7e084450c381114afd1d81c65ff2a25"
 },
 "nbformat": 3,
 "nbformat_minor": 0,
 "worksheets": [
  {
   "cells": [
    {
     "cell_type": "markdown",
     "metadata": {},
     "source": [
      "We wouldn't call the internal communication applications within a company \"social media\". For example, if a company uses Microsoft Lync as their internal point-to-point communication tool, and uses wiki as internal information sharing tool, we won't call them social medias. Social media is based on the Web2.0 technology, but it has an emphasize on a virtual community <cite data-cite=\"wiki:social\"></cite>. In the physical communities, or the society, laws and regulations have been formed and evolved for centuries. But the virtual community enabled by the new technology is still new. Although it's still a community formed by humans, but because of the technology there are quite a lot of differences. Some of the differences are never expected by the humans before.\n",
      "\n",
      "Before we explore the responsibilities of the security of the social media providers and users, we need to define what does it mean to be secure. In The Universal Declaration of Human Rights<cite data-cite=\"lauterpacht1948universal\"></cite>, I found these articles:"
     ]
    },
    {
     "cell_type": "markdown",
     "metadata": {},
     "source": [
      "<dl>\n",
      "<dt>Article 12</dt>\n",
      "<dd>No one shall be subjected to arbitrary interference with his privacy, family, home or correspondence, nor to attacks upon his honour and reputation. Everyone has the right to the protection of the law against such interference or attacks.\n",
      "</dd>\n",
      "<dt>Article 19</dt>\n",
      "<dd>Everyone has the right to freedom of opinion and expression; this right includes freedom to hold opinions without interference and to seek, receive and impart information and ideas through any media and regardless of frontiers.</dd>\n",
      "\n",
      "<dt>Article 22</dt>\n",
      "<dd>Everyone, as a member of society, has the right to social security and is entitled to realization, through national effort and international co-operation and in accordance with the organization and resources of each State, of the economic, social and cultural rights indispensable for his dignity and the free development of his personality.</dd>\n",
      "</dl>"
     ]
    },
    {
     "cell_type": "heading",
     "level": 1,
     "metadata": {},
     "source": [
      "Security Challenges of Social Media"
     ]
    },
    {
     "cell_type": "heading",
     "level": 2,
     "metadata": {},
     "source": [
      "Privacy"
     ]
    },
    {
     "cell_type": "markdown",
     "metadata": {},
     "source": [
      "The privacy could belong to the person him/herself, other people, or the entity like a company. It's important to protect the privacy in social media."
     ]
    },
    {
     "cell_type": "heading",
     "level": 3,
     "metadata": {},
     "source": [
      "Provider"
     ]
    },
    {
     "cell_type": "markdown",
     "metadata": {},
     "source": [
      "Social media provider is responsible for protecting the privacy of the media participants. From technology perspective, social media provider is responsible for trying their best to eliminate the risk of leaking privacy, from the root. From the root, there are several layers they can do (from the best to worse):\n",
      "\n",
      "* **Do not collect it**. If social media don't collect private information, then the private information will not leak because of the media itself.\n",
      "* **Do not keep it**. If they collected the information, but don't keep it anywhere, nobody can get it in the future.\n",
      "* **Do not keep it too long**. If they have to keep the information, then don't keep it too long. Technically, breaking any protected information is just a matter of time.\n",
      "* **Keep it with strong protection**. And let the users know about their risks."
     ]
    },
    {
     "cell_type": "heading",
     "level": 3,
     "metadata": {},
     "source": [
      "User"
     ]
    },
    {
     "cell_type": "markdown",
     "metadata": {},
     "source": [
      "First, user need to know what is his/her privacy. There are also a few layers a user could achieve:\n",
      "\n",
      "* Do not share\n",
      "* Share with trusted device & connection\n",
      "* Share with trusted application\n",
      "* Share with trusted group"
     ]
    },
    {
     "cell_type": "heading",
     "level": 2,
     "metadata": {},
     "source": [
      "Abusing"
     ]
    },
    {
     "cell_type": "markdown",
     "metadata": {},
     "source": [
      "Just like what happened in a real-world community, there are people with bad wills and abusing the social media. One way of abusing the social media is Social engineering. Social engineering means to psychological manipulate people to perform some actions. In social media, since it's easy to collect people's information and interact with them, social engineering is very common."
     ]
    },
    {
     "cell_type": "heading",
     "level": 3,
     "metadata": {},
     "source": [
      "Provider"
     ]
    },
    {
     "cell_type": "markdown",
     "metadata": {},
     "source": [
      "* Detect social engineering <cite data-cite=\"wiki:socilengineering\"></cite>. \n",
      "* Prevent non-human participants."
     ]
    },
    {
     "cell_type": "heading",
     "level": 3,
     "metadata": {},
     "source": [
      "User"
     ]
    },
    {
     "cell_type": "markdown",
     "metadata": {},
     "source": [
      "* Protect your account. Because when your account is compromised, it can be used to harm you, and also can be used to harm the others.\n",
      "* Don't forget the link between the information you share. For instance, if you shared somewhere than you have a daughter and then shared somewhere else a picture of yourself with a young girl in the background, they people could guess that she's your daughter and use that information."
     ]
    },
    {
     "cell_type": "heading",
     "level": 2,
     "metadata": {},
     "source": [
      "Social Responsibility"
     ]
    },
    {
     "cell_type": "markdown",
     "metadata": {},
     "source": [
      "Another area of social media security is the society security and national security. This is an area beyond my knowledge. One man's hero is another man's villain. What role could social media play in society movement? We can see that social media led up to the uprising of \"Arab Spring\". And it's also debateable that the government like the US and NGOs has been supporting social media to do so <cite data-cite=\"ghannam2011social\"></cite>. There are also nations that block their people to access the social media outside their nation. Users in those nations need to learn technology to bypass the blocking. To be honest, I have a hard time distinguishing thing we have to do, can do, should do, and should sometimes do in terms of social media from both provider's and user's perspective."
     ]
    },
    {
     "cell_type": "heading",
     "level": 1,
     "metadata": {},
     "source": [
      "Conclusion"
     ]
    },
    {
     "cell_type": "markdown",
     "metadata": {},
     "source": [
      "Social media is a new media. It has a lot of things in common with traditional media. Most of the traditional values and laws of media is also applicable to these new medias. Because of the technology, social media also brought many new challenges in the area of security than traditional media. Both the social media providers and users need to explore and learn how to protect their right."
     ]
    }
   ],
   "metadata": {}
  }
 ]
}