{
 "metadata": {
  "name": "",
  "signature": "sha256:28c9a20cdb5319946eb8890b52b00f1895094610a03617a64c1c2515cce7626b"
 },
 "nbformat": 3,
 "nbformat_minor": 0,
 "worksheets": [
  {
   "cells": [
    {
     "cell_type": "heading",
     "level": 1,
     "metadata": {},
     "source": [
      "The Bus and Start Topology"
     ]
    },
    {
     "cell_type": "markdown",
     "metadata": {},
     "source": [
      "Bus and star are two of the basic network topologies. The difference between a bus and a star network is rather conceptual than practical. The logical topology of a network can be totally different from its physical topology."
     ]
    },
    {
     "cell_type": "heading",
     "level": 2,
     "metadata": {},
     "source": [
      "Logical Bus Over Physical Bus Network Topology"
     ]
    },
    {
     "cell_type": "heading",
     "level": 3,
     "metadata": {},
     "source": [
      "10BASE2 Ethernet"
     ]
    },
    {
     "cell_type": "markdown",
     "metadata": {},
     "source": [
      "My personal memory about the physical bus topology is quite \"painful\". It involves electrical leakage. In the mid 90s, I used the early version of Ethernet <cite data-cite=\"[10BASE2]wiki:base2\"></cite>, in my dorm at school. The 10BASE2 network uses the BNC connectors to connect the thin coaxial cables. The network connection is literally just one piece of metal. Although on both ends there are 50omh \"terminators\", because it was often not well grounded, getting electrical shock had been very common in those days."
     ]
    },
    {
     "cell_type": "markdown",
     "metadata": {},
     "source": [
      "The 10BASE2 network has almost all the drawbacks of the bus network topology:\n",
      "\n",
      "* Any update to the network need to shut down the entire network.\n",
      "* A problem with any node or connection could stop the entire network.\n",
      "* It will slow down as more nodes are added to the network.\n",
      "* Terminators are needed on both end, and there could be leakage. Ouch!"
     ]
    },
    {
     "cell_type": "markdown",
     "metadata": {},
     "source": [
      "10BASE2 network has been almost obsolete now. Unlike the system bus within a computer <cite data-cite=\"wiki:busc\"></cite>, It's very hard to find any \"one piece of metal\" physical bus network nowadays."
     ]
    },
    {
     "cell_type": "heading",
     "level": 3,
     "metadata": {},
     "source": [
      "CAN Bus"
     ]
    },
    {
     "cell_type": "markdown",
     "metadata": {},
     "source": [
      "The Controller Area Network <cite data-cite=\"[CAN bus]farsi1999overview\"></cite> is a logical bus over physical bus network that is still widely used today. It is used to build a decentralized network in vehicles."
     ]
    },
    {
     "cell_type": "markdown",
     "metadata": {},
     "source": [
      "<img src=\"resources/can.png\" alt=\"CAN networks significantly reduce wiring. source: http://www.ni.com/white-paper/2732/en/\" width=\"50%\">"
     ]
    },
    {
     "cell_type": "markdown",
     "metadata": {},
     "source": [
      "The CAN bus has all the advantages of a bus network topology.\n",
      "\n",
      "* It is simple and low-cost.\n",
      "* It broadcasts the communication to reduce the wiring\n",
      "* It's decentralized, so no host computer is needed"
     ]
    },
    {
     "cell_type": "heading",
     "level": 2,
     "metadata": {},
     "source": [
      "Logical Bus Over Physical Star Network Topology"
     ]
    },
    {
     "cell_type": "heading",
     "level": 3,
     "metadata": {},
     "source": [
      "Ethernet With A Hub"
     ]
    },
    {
     "cell_type": "markdown",
     "metadata": {},
     "source": [
      "An Ethernet connected with Twisted pair cables and a hub or switch is still considered a logical bus network topology. But the physical topology is actually a star.\n",
      "\n",
      "<img src=\"resources/star.jpg\" alt=\"Logical Bus Over Physical Star source: http://www.hill2dot0.com/wiki/index.php\" width=\"50%\">"
     ]
    },
    {
     "cell_type": "markdown",
     "metadata": {},
     "source": [
      "Because it's only a physical star network, it only share some of the advantages of a star topology.\n",
      "\n",
      "* Isolation of devices: adding and removing a node doesn't need to shut down the whole network. Just plug in or unplug the cable.\n",
      "* Benefits from centralization: scaling up become easier. It's also easier to troubleshoot. Typically you can see the connection status from the indicator of the hub.\n",
      "\n",
      "And because it's also logically a bus network, the cost of the network is lower than a logical star network. The hub or switch is typically cheap because they don't need extremely high computing power. But still, as a star network it,\n",
      "\n",
      "* Rely on centralized device (hub). If the device is down, the whole network will be down."
     ]
    },
    {
     "cell_type": "heading",
     "level": 2,
     "metadata": {},
     "source": [
      "Logical Start Over Physical Star Network Topology"
     ]
    },
    {
     "cell_type": "heading",
     "level": 3,
     "metadata": {},
     "source": [
      "Ethernet With A Router"
     ]
    },
    {
     "cell_type": "markdown",
     "metadata": {},
     "source": [
      "Again, if the network is connected together with a centralized device, then physically it's a star network topology. When it centralized device is smart enough to find the destination of communication and each note connect doesn't need to deal with the collision by itself, it's also logically a star network topology."
     ]
    },
    {
     "cell_type": "markdown",
     "metadata": {},
     "source": [
      "As a both logical and physical star network, it has the full advantage of a star topology. The advantages more than a logical bus and physical star network are:\n",
      "\n",
      "* Isolation of devices: nodes won't disturb each other if it's not required.\n",
      "* Higher performance: it reduces the unnecessary communication between nodes that are not talking to each other.\n",
      "\n",
      "On the other hand, it has all the drawback of a star topology. Because the router need much stronger computing power than a simple hub and it might have quite complicated software, usually a router network is more expensive than simple hub connected network."
     ]
    },
    {
     "cell_type": "heading",
     "level": 2,
     "metadata": {},
     "source": [
      "Logical Star Over Physical Bus Network"
     ]
    },
    {
     "cell_type": "heading",
     "level": 3,
     "metadata": {},
     "source": [
      "Cable Internet access"
     ]
    },
    {
     "cell_type": "markdown",
     "metadata": {},
     "source": [
      "The cable television infrastructure is quite common in many places. It's physically a bus network. In many places, the cable television infrastructure is reused for cable Internet access <cite data-cite=\"wiki:cableinternet\"></cite>, for example, in Singapore, where I'm using the cable Internet access by Starhub right now."
     ]
    },
    {
     "cell_type": "markdown",
     "metadata": {},
     "source": [
      "Although it's a physical bus network, but people use it as a logical star network. The users are connected to a centralized modem and router, and the users sharing the same network cannot see each other directly in the network."
     ]
    },
    {
     "cell_type": "heading",
     "level": 1,
     "metadata": {},
     "source": [
      "Collision"
     ]
    },
    {
     "cell_type": "markdown",
     "metadata": {},
     "source": [
      "In a bus network, because all the hosts are sharing the same medium, therefore, there will be collisions when more than one hosts want to transfer something over the bus network. An often used solution of this problem is the Carrier Sense Multiple Access with Collision Avoidance <cite data-cite=\"[CSMA/CA]wiki:csma\"></cite>."
     ]
    },
    {
     "cell_type": "markdown",
     "metadata": {},
     "source": [
      "The general mechanism of CSMA/CA is (in pseudo python code):"
     ]
    },
    {
     "cell_type": "code",
     "collapsed": false,
     "input": [
      "def CSMA_CA():\n",
      "    assemble_a_frame()\n",
      "    while True:\n",
      "        if is_the_channel_idle():\n",
      "            break\n",
      "        wait_for_random_backoff_time()\n",
      "    transmit_the_frame()"
     ],
     "language": "python",
     "metadata": {},
     "outputs": [],
     "prompt_number": 48
    },
    {
     "cell_type": "markdown",
     "metadata": {},
     "source": [
      "This is super simplified algorithm for basic CSMA/CA. In a real life CSMA/CA implementation like the wireless 802.11 <cite data-cite=\"crow1997ieee\"></cite>, when the channel is not idle, it will send Request to Send/Clear to Send (RTS/CTS) message to the wireless AP."
     ]
    },
    {
     "cell_type": "markdown",
     "metadata": {},
     "source": [
      "With the simplified algorithm, if the average backoff window is `backoff`, then the probability of any node attempts to transmit data is `1/backoff`. When there are `x` nodes in the network, the chance there's no collision is `(1 - 1/backoff) ** (x - 1)`. Therefore the collision probability is approximately `1 - (1 - 1/backoff) ** (x - 1)`, <cite data-cite=\"vu2006collision\"></cite>. When `backoff = 10`, we got the following diagram:"
     ]
    },
    {
     "cell_type": "code",
     "collapsed": false,
     "input": [
      "%matplotlib inline\n",
      "import matplotlib.pyplot as plt\n",
      "import numpy as np\n",
      "x = np.linspace(0, 40, 500)\n",
      "backoff = 10\n",
      "plt.plot(x, 1. - (1. - 1./backoff) ** (x - 1))\n",
      "plt.xlabel('number of nodes')\n",
      "plt.ylabel('probability of collision')\n",
      "plt.title('Collision probability as the number of nodes increases');"
     ],
     "language": "python",
     "metadata": {},
     "outputs": [
      {
       "metadata": {},
       "output_type": "display_data",
       "png": "[encoded data removed]",
       "text": [
        "<matplotlib.figure.Figure at 0x10a32f390>"
       ]
      }
     ],
     "prompt_number": 53
    },
    {
     "cell_type": "markdown",
     "metadata": {},
     "source": [
      "As we can see the collision probability increase as the number of node in the network increases. So a basic CSMA/CD implementation is not suitable for a large network."
     ]
    },
    {
     "cell_type": "heading",
     "level": 1,
     "metadata": {},
     "source": [
      "Conclusion"
     ]
    },
    {
     "cell_type": "markdown",
     "metadata": {},
     "source": [
      "A bus network is a simple and efficient network topology. It's hard to scale to a large network, but it has many applications in smaller networks, e.g. Local Area Networks, WiFi Networks and the CAN in vehicles. The star network trade for better performance by adding a centralized node, with additional cost of the network. The star network is also easier to scale up. I also discussed the collision resolving algorithm, CSMA/CD. I'm also expecting to see more telecommunication channel access method applied in resolving collisions in normal networks, like FDMA, CDMA and TDMA."
     ]
    },
    {
     "cell_type": "markdown",
     "metadata": {},
     "source": [
      "This paper is created using iPython notebook <cite data-cite=\"PER-GRA:2007\"></cite>."
     ]
    }
   ],
   "metadata": {}
  }
 ]
}