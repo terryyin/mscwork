{
 "metadata": {
  "name": "",
  "signature": "sha256:e1cb60a8df5698677c8b6905a7fbcc5a2f9a2047d62f8121c5d23f19b46d874f"
 },
 "nbformat": 3,
 "nbformat_minor": 0,
 "worksheets": [
  {
   "cells": [
    {
     "cell_type": "markdown",
     "metadata": {},
     "source": [
      "The `<frame>` tag in the early version of HTML was an attempt to separate the concerns on the web page <cite data=\"html-frame\"></cite>. It divides the single web page window into several areas (which is collectively under a <frameset> tag). Each of of these areas, or frame, only provide part of the information, e.g. the navigation menu, the sidebar and the main content. Put it in another word, the <frame> tag was a try of decoupling. "
     ]
    },
    {
     "cell_type": "markdown",
     "metadata": {},
     "source": [
      "<img src=\"resources/frames.gif\">"
     ]
    },
    {
     "cell_type": "code",
     "collapsed": false,
     "input": [],
     "language": "python",
     "metadata": {},
     "outputs": []
    }
   ],
   "metadata": {}
  }
 ]
}