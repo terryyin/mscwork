{
 "metadata": {
  "name": "",
  "signature": "sha256:c6a48436c67c900206f87afed1d9d4b4859e7b8b0acd56cc9eb6a493b0925c19"
 },
 "nbformat": 3,
 "nbformat_minor": 0,
 "worksheets": [
  {
   "cells": [
    {
     "cell_type": "code",
     "collapsed": false,
     "input": [],
     "language": "python",
     "metadata": {},
     "outputs": []
    },
    {
     "cell_type": "markdown",
     "metadata": {},
     "source": [
      "How long will a codebase live? We never know. Software codebase, like any organic system, won't live for ever. But it usually isn't wise to assume the life span for the code. Too often some \"experimental code\" that we planned to \"throw right away\" ended up being used in the system for 10 years, and perhaps even became part of the system."
     ]
    },
    {
     "cell_type": "code",
     "collapsed": false,
     "input": [],
     "language": "python",
     "metadata": {},
     "outputs": []
    }
   ],
   "metadata": {}
  }
 ]
}