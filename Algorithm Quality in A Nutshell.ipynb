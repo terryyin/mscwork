{
 "metadata": {
  "name": "",
  "signature": "sha256:eafbfa6b756d3426dc8c587676582a6326fe2a307dff2cab127a716d2002fcaf"
 },
 "nbformat": 3,
 "nbformat_minor": 0,
 "worksheets": [
  {
   "cells": [
    {
     "cell_type": "markdown",
     "metadata": {},
     "source": [
      "How do you put an elephant into a refrigerator?\n",
      "\n",
      "* step 1: Open the refrigerator;\n",
      "* step 2: put in the elephant;\n",
      "* step 3: close the door."
     ]
    },
    {
     "cell_type": "markdown",
     "metadata": {},
     "source": [
      "We just created an algorithm for putting an elephant into a refrigerator. But, somehow, it feels not very practical. How do we determine the quality of an algorithm?"
     ]
    },
    {
     "cell_type": "heading",
     "level": 1,
     "metadata": {},
     "source": [
      "Does it work"
     ]
    },
    {
     "cell_type": "markdown",
     "metadata": {},
     "source": [
      "Correctness is for sure an important part of the algorithm quality. How can we verify if (the representation of) an algorithm is correct?"
     ]
    },
    {
     "cell_type": "markdown",
     "metadata": {},
     "source": [
      "Accounting is called the \"language of business\", and is known to be precise. How do they ensure the correctness of their bookkeeping? Accountants usually use an approach called **double-entry bookkeeping**. For instance, recording earnings of \\$100 would require making two entries: a debit entry of \\$100 to an account called \"Cash\" and a credit entry to an account called \"Income\" <cite data-cite=\"wiki:double-entry\"></cite>. In the end, everything should be balanced. If not, they immediately know there's a problem."
     ]
    },
    {
     "cell_type": "markdown",
     "metadata": {},
     "source": [
      "We should have this kind of **redundancy** for the algorithm as well. Besides the representation of the algorithm, which is the code, we should also have a representation for our intent by the algorithm.\n",
      "\n",
      "Traditional, the representation of the intent of the algorithm is often in the form of a **requirement specification** or **test plan**. But the problem of static documentation is they often \"lie\". It's hard to check if they are documenting the actual thing. And they tend to become outdated very soon.\n",
      "\n",
      "Therefore, we need a representation of the algorithm's intent that doesn't lie. That could be **unit testing**, which is some computer program checking the correctness of another computer program <cite data-cite=\"wiki:unittest\"></cite>."
     ]
    },
    {
     "cell_type": "markdown",
     "metadata": {},
     "source": [
      "Below is an example of the algorithm of determining the **leap year**:"
     ]
    },
    {
     "cell_type": "code",
     "collapsed": false,
     "input": [
      "def leap_year(year):\n",
      "    if year % 4 != 0: return False\n",
      "    if year % 100 != 0: return True\n",
      "    if year % 400 != 0: return False\n",
      "    return True"
     ],
     "language": "python",
     "metadata": {},
     "outputs": [],
     "prompt_number": 6
    },
    {
     "cell_type": "markdown",
     "metadata": {},
     "source": [
      "Below is some unit test to check the intent of the algorithm of the leap year:"
     ]
    },
    {
     "cell_type": "code",
     "collapsed": false,
     "input": [
      "assert not leap_year(1999)\n",
      "assert leap_year(2008)\n",
      "assert leap_year(2000)\n",
      "assert not leap_year(2100)"
     ],
     "language": "python",
     "metadata": {},
     "outputs": [],
     "prompt_number": 10
    },
    {
     "cell_type": "heading",
     "level": 1,
     "metadata": {},
     "source": [
      "Internal quality of an algorithm"
     ]
    },
    {
     "cell_type": "markdown",
     "metadata": {},
     "source": [
      "\"An algorithm is an ordered set of unambiguous, executable steps that define a terminating process\" <cite data-cite=\"[p. 189]brookshear1997computer\"></cite>. The representation of an algorithm also needs some abstraction to avoid too much detail."
     ]
    },
    {
     "cell_type": "markdown",
     "metadata": {},
     "source": [
      "A generally good abstraction might not necessarily be a part of a good algorithm. Abstraction helps people understand ideas. Sometimes, it doesn't even have to be right. For example, the arrival flight sign in most airport looks like this (The symbol next to the arrow on the left):\n",
      "\n",
      "<img src=\"resources/arrival.jpg\" width=\"50%\" alt=\"Signboard for arrival flight. September 2014, Suvarnabhumi Airport, Bangkok by Terry Yin\">"
     ]
    },
    {
     "cell_type": "markdown",
     "metadata": {},
     "source": [
      "This is a good abstraction. Everybody will understand what does it mean immediately. But the fact is no airplane lands like that. It looks more like crashing. It's unimaginable if anybody implements landing according to that abstraction. To make the representation more precise, computer science established the basic building blocks called **primitive** <cite data-cite=\"[p. 190]brookshear1997computer\"></cite>. "
     ]
    },
    {
     "cell_type": "markdown",
     "metadata": {},
     "source": [
      "But too much detail will also prevent people from understanding the algorithm. Luckily, any programming language has some ability of abstraction, e.g. extra the details into a sub-routine. So a good algorithm should be **detailed appropriately**. Or following the **Single Level of Abstraction Principle**."
     ]
    },
    {
     "cell_type": "markdown",
     "metadata": {},
     "source": [
      "Probably we should try to avoid using pseudo-code to represent an algorithm, when it's possible to use a real programming language. The algorithm is part of the software design. As Jack Reeves pointed out: "
     ]
    },
    {
     "cell_type": "markdown",
     "metadata": {},
     "source": [
      "> \u201cAfter reviewing the software development lifecycle as I understood it, I concluded that the only software documentation that actually seems to satisfy the criteria of an engineering design is the source code listings.\u201d\n",
      "> <cite data-cite=\"reeves1992software\"></cite>"
     ]
    },
    {
     "cell_type": "heading",
     "level": 1,
     "metadata": {},
     "source": [
      "Efficiency of an algorithm"
     ]
    },
    {
     "cell_type": "markdown",
     "metadata": {},
     "source": [
      "Our algorithm might be able to provide the functionality we need at a small scale. But will it work efficient enough when the input scales up? The efficiency is often also a part of our intent for an algorithm, which is often called **non-functional requirement** <cite data-cite=\"wiki:nonfunctional\"></cite>. There are many aspects in non-functional. Here we will only look at the **time complexity** and the **space complexity**."
     ]
    },
    {
     "cell_type": "heading",
     "level": 2,
     "metadata": {},
     "source": [
      "How long will it run before getting the result?"
     ]
    },
    {
     "cell_type": "markdown",
     "metadata": {},
     "source": [
      "An obvious quality of the algorithm is how fast it is. That is determined by the time complexity of the algorithm. Computer has been doubling its speed every 18 months, <cite data-cite=\"wiki:moore\"></cite>. But that's still often not enough to make an algorithm does what it couldn't within a reasonable amount of time. Because the time complexity of the algorithm could increase very fast as the amount it's dealing scales up. The time complexity of the algorithm is often identified by the **big-theta notation** like `\u0398(n2)` <cite data-cite=\"[p.226]brookshear1997computer\"></cite>, or **big-O notation** like `O(n)` <cite data-cite=\"wiki:bigo\"></cite>.\n",
      "\n",
      "Say, you come to a typical American family, it's important to remember everybody's _name_. You will need to call those people by name in the future. So the complexity is `O(n)`. For a family with `n` people, the time you spend on remembering the names will be proportional to `n`.\n",
      "\n",
      "Say, you come to a typical Chinese family, it's important to know the _relationship_ between each two of them. Because, well, one day you will need to say \"oh, you are Zhangsan's 3rd cousin and son of Zhangsan's mother's 2nd sister.\" This time, the complexity is `O(n**2)`. As you can see, the time you spend on remembering the relationship of a Chinese family increase much faster than just remembering the names as the number of family member increases.\n",
      "\n",
      "But, if you study the Chinese family deep enough, you will find that there are tricks to help you remember the relationships between each family members. You don't have to remember each relationship, you only need to remember the **family tree**. Now the complexity of remembering the relationship is `O(n)` again. And when you need to recall the relationship between any two family members, the complexity is `O(lg n)`.\n",
      "\n",
      "The interesting finding here is, `O(lg n)` increases slower than `O(n)`. So that means getting to know a large Chinese family is actually easier than getting to know a large American family."
     ]
    },
    {
     "cell_type": "heading",
     "level": 2,
     "metadata": {},
     "source": [
      "How much space will it take"
     ]
    },
    {
     "cell_type": "markdown",
     "metadata": {},
     "source": [
      "**Space complexity** is often another concern of algorithm, because computers have limited memory (and other resources). Time complexity and space complexity are sometime tradeable. For example, in the above Chinese family example, we use extra space in our memory to remember the relation names in a full family tree. So that we can reduce the complexity of searching the relationship between any two members from `O(n**2)` to `O(lg n)`."
     ]
    },
    {
     "cell_type": "heading",
     "level": 1,
     "metadata": {},
     "source": [
      "Conclusion"
     ]
    },
    {
     "cell_type": "markdown",
     "metadata": {},
     "source": [
      "As Kent Beck pointed out, there are three steps in designing a piece of software <cite data-cite=\"c2:makeitfast\"></cite>:\n",
      "\n",
      "* Make it work\n",
      "* Make it right\n",
      "* Make it fast\n",
      "\n",
      "\"Make it work\" means to make it work according to the functional requirement. \"Make it right\" means to have the proper internal structure. \"Make it fast\" means to make it work according the non-functional requirement. And the order is very important. Trying to make it fast before it has the right structure will only lead to something that doesn't work and not fast, and of course, have a messy internal structure.\n",
      "\n",
      "**Regarding the elephant story**: I didn't make the story. But I heard it too long ago, and I don't know who's the author of it. There's a second part (and more) of the story. How do you put a giraffe into a freezer?"
     ]
    }
   ],
   "metadata": {}
  }
 ]
}