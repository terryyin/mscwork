{
 "metadata": {
  "name": "",
  "signature": "sha256:27929005354a537109788b5adfc8876bd2c37922b8dca3894d73e3a5662c08aa"
 },
 "nbformat": 3,
 "nbformat_minor": 0,
 "worksheets": [
  {
   "cells": [
    {
     "cell_type": "markdown",
     "metadata": {},
     "source": [
      "Hi Anthony,\n",
      "\n",
      "I would like to share my additional thoughts on this topic. Does the easy access to information lower the quality of citing the others? No, I don't think so. I think on the contrary, it should increase the overall citation quality.\n",
      "\n",
      "There is a very popular paper _Managing the Development of Large Software Systems_ <cite data-cite=\"royce1970managing\"></cite>, which has been cited many times in all sorts of software engineering studies. On http://scholar.google.com, I found 3130 citations to it in Sep 2014.\n",
      "\n",
      "As pointed out by <cite data-cite=\"larman2003iterative\"></cite>:\n",
      "\n",
      "> Many--incorrectly--view Royce's paper as the paragon of single-pass waterfall. In reality, he recommended an approach somewhat different than what has devolved into today's waterfall concept... \n",
      "\n",
      "Those people that citing Royce's paper didn't bother to finish the paper to understand his point. And they still use his paper to back up their totally opposite opinion. Royce has almost been nominated as the \"father of the waterfall process\" (citation will be provided upon request:). I don't think he will be very happy upon hearing that. He's already died in 1995 <cite data-cite=\"wiki:royce\"></cite>. Eventually, his son decided to fight back for his father, <cite data-cite=\"gugenberger2007waterfall\"></cite>.\n",
      "\n",
      "Formal citation, long list of bibliography, all appears so beautiful, but the inner quality of the citation could be very low or even having contradicting opinion. Interestingly, the misunderstanding of the studies from the time Internet wasn't popular now is getting clarified when the Internet age comes. I think it's because the easiness of accessing information increase the citation quality in all levels. And I think these levels include the situation of plagiarism. And don't forget, the anti-plagiarism systems like Turnitin are using the same technology as people use to find information.\n",
      "\n",
      "Additional complaint... One thing I don't like here in Singapore is when you went to apply something from the bank or the government with a piece of 100 gram paper with colored company logo on it, you are more likely to get things through. I think a general trend in the age of Internet is things are cheapenized and all the gold plating are gone, which is a good thing.\n",
      "\n",
      "br, Terry"
     ]
    }
   ],
   "metadata": {}
  }
 ]
}