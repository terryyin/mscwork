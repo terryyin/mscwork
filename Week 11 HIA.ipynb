{
 "metadata": {
  "name": "",
  "signature": "sha256:2dce8cdb0e7b1679aaa3701b1a7b080c8747ff9a14e2eabd113a74a16ff98276"
 },
 "nbformat": 3,
 "nbformat_minor": 0,
 "worksheets": [
  {
   "cells": [
    {
     "cell_type": "markdown",
     "metadata": {},
     "source": [
      "This hand-in assignment is using IPython Notebook <cite data-cite=\"PER-GRA:2007\"></cite>, with the support from SQLite database <cite data-cite=\"owens2006definitive\"></cite>, and the Pandas library <cite data-cite=\"pandas\"></cite>."
     ]
    },
    {
     "cell_type": "heading",
     "level": 1,
     "metadata": {},
     "source": [
      "HIA Part I: Database Design"
     ]
    },
    {
     "cell_type": "markdown",
     "metadata": {},
     "source": [
      "I use SQLite3 as my database. And the following Python code will create the 2 required tables. After creating the tables. The next Python code will add some data to both tables."
     ]
    },
    {
     "cell_type": "code",
     "collapsed": false,
     "input": [
      "import sqlite3\n",
      "import pandas as pd\n",
      "conn = sqlite3.connect('exercise1.db')\n",
      "c = conn.cursor()\n",
      "\n",
      "# SQLite has the foreign key support off by default. Turn it on.\n",
      "c.execute(\"PRAGMA foreign_keys=ON\")\n",
      "\n",
      "# Create tables\n",
      "c.execute('''CREATE TABLE Composers (\n",
      "                id                INTEGER PRIMARY KEY,\n",
      "                name              TEXT,\n",
      "                nationality       TEXT,\n",
      "                birth_date        TEXT,\n",
      "                death_date        TEXT)\n",
      "          ''')\n",
      "\n",
      "c.execute('''CREATE TABLE Compositions (\n",
      "                id                    INTEGER PRIMARY KEY,\n",
      "                name                  TEXT,\n",
      "                type                  TEXT,\n",
      "                year_of_publication   TEXT,\n",
      "                opus                  TEXT,\n",
      "                composer_id           INTEGER,\n",
      "                FOREIGN KEY(composer_id) REFERENCES Composers(id))\n",
      "          ''')"
     ],
     "language": "python",
     "metadata": {},
     "outputs": [
      {
       "metadata": {},
       "output_type": "pyout",
       "prompt_number": 12,
       "text": [
        "<sqlite3.Cursor at 0x112b0a1f0>"
       ]
      }
     ],
     "prompt_number": 12
    },
    {
     "cell_type": "code",
     "collapsed": false,
     "input": [
      "# Insert composers\n",
      "c.execute('''INSERT INTO Composers VALUES (1,'Joseph Haydn','Austria',\n",
      "                    '31 Mar 1732','31 May 1809')''')\n",
      "c.execute('''INSERT INTO Composers VALUES (2,'Wolfgang Amadeus Mozart','Austria',\n",
      "                    '27 Jan 1756','5 Dec 1791')''')\n",
      "c.execute('''INSERT INTO Composers VALUES (3,'Christoph Graupner','German',\n",
      "                    '13 Jan 1683','10 May 1760')''')\n",
      "c.execute('''INSERT INTO Composers VALUES (4,'Franz Peter Schubert','Austria',\n",
      "                    '31 Jan 1797','19 Nov 1828')''')\n",
      "c.execute('''INSERT INTO Composers VALUES (5,'Tomaso Giovanni Albinoni','Italy',\n",
      "                    '8 Jun 1671','17 Jan 1751')''')\n",
      "c.execute('''INSERT INTO Composers VALUES (6,'Carl Philipp Emanuel Bach','German',\n",
      "                    '8 Mar 1714','14 Dec 1788')''')\n",
      "\n",
      "# Insert compositions\n",
      "c.execute(\"\"\"INSERT INTO Compositions VALUES (1,'Cello Concerto No. 2 in D',\n",
      "                                            'concertos','1783 ','op.101', 1)\"\"\")\n",
      "c.execute(\"\"\"INSERT INTO Compositions VALUES (2,'Apollo and Hyacinth',\n",
      "                                            'opera','1767 ','k.38', 2)\"\"\")\n",
      "c.execute(\"\"\"INSERT INTO Compositions VALUES (3,'Bastien and Bastienne',\n",
      "                                            'opera','1768 ','k.50', 2)\"\"\")\n",
      "\n",
      "# Save (commit) the changes\n",
      "conn.commit()"
     ],
     "language": "python",
     "metadata": {},
     "outputs": [],
     "prompt_number": 13
    },
    {
     "cell_type": "code",
     "collapsed": false,
     "input": [
      "pd.read_sql(\"SELECT * from Composers\", conn)"
     ],
     "language": "python",
     "metadata": {},
     "outputs": [
      {
       "html": [
        "<div style=\"max-height:1000px;max-width:1500px;overflow:auto;\">\n",
        "<table border=\"1\" class=\"dataframe\">\n",
        "  <thead>\n",
        "    <tr style=\"text-align: right;\">\n",
        "      <th></th>\n",
        "      <th>id</th>\n",
        "      <th>name</th>\n",
        "      <th>nationality</th>\n",
        "      <th>birth_date</th>\n",
        "      <th>death_date</th>\n",
        "    </tr>\n",
        "  </thead>\n",
        "  <tbody>\n",
        "    <tr>\n",
        "      <th>0</th>\n",
        "      <td> 1</td>\n",
        "      <td>              Joseph Haydn</td>\n",
        "      <td> Austria</td>\n",
        "      <td> 31 Mar 1732</td>\n",
        "      <td> 31 May 1809</td>\n",
        "    </tr>\n",
        "    <tr>\n",
        "      <th>1</th>\n",
        "      <td> 2</td>\n",
        "      <td>   Wolfgang Amadeus Mozart</td>\n",
        "      <td> Austria</td>\n",
        "      <td> 27 Jan 1756</td>\n",
        "      <td>  5 Dec 1791</td>\n",
        "    </tr>\n",
        "    <tr>\n",
        "      <th>2</th>\n",
        "      <td> 3</td>\n",
        "      <td>        Christoph Graupner</td>\n",
        "      <td>  German</td>\n",
        "      <td> 13 Jan 1683</td>\n",
        "      <td> 10 May 1760</td>\n",
        "    </tr>\n",
        "    <tr>\n",
        "      <th>3</th>\n",
        "      <td> 4</td>\n",
        "      <td>      Franz Peter Schubert</td>\n",
        "      <td> Austria</td>\n",
        "      <td> 31 Jan 1797</td>\n",
        "      <td> 19 Nov 1828</td>\n",
        "    </tr>\n",
        "    <tr>\n",
        "      <th>4</th>\n",
        "      <td> 5</td>\n",
        "      <td>  Tomaso Giovanni Albinoni</td>\n",
        "      <td>   Italy</td>\n",
        "      <td>  8 Jun 1671</td>\n",
        "      <td> 17 Jan 1751</td>\n",
        "    </tr>\n",
        "    <tr>\n",
        "      <th>5</th>\n",
        "      <td> 6</td>\n",
        "      <td> Carl Philipp Emanuel Bach</td>\n",
        "      <td>  German</td>\n",
        "      <td>  8 Mar 1714</td>\n",
        "      <td> 14 Dec 1788</td>\n",
        "    </tr>\n",
        "  </tbody>\n",
        "</table>\n",
        "</div>"
       ],
       "metadata": {},
       "output_type": "pyout",
       "prompt_number": 14,
       "text": [
        "   id                       name nationality   birth_date   death_date\n",
        "0   1               Joseph Haydn     Austria  31 Mar 1732  31 May 1809\n",
        "1   2    Wolfgang Amadeus Mozart     Austria  27 Jan 1756   5 Dec 1791\n",
        "2   3         Christoph Graupner      German  13 Jan 1683  10 May 1760\n",
        "3   4       Franz Peter Schubert     Austria  31 Jan 1797  19 Nov 1828\n",
        "4   5   Tomaso Giovanni Albinoni       Italy   8 Jun 1671  17 Jan 1751\n",
        "5   6  Carl Philipp Emanuel Bach      German   8 Mar 1714  14 Dec 1788"
       ]
      }
     ],
     "prompt_number": 14
    },
    {
     "cell_type": "code",
     "collapsed": false,
     "input": [
      "pd.read_sql('''SELECT Compositions.name,\n",
      "                      Compositions.type, \n",
      "                      Composers.name as 'composer name' \n",
      "                  FROM Compositions JOIN Composers \n",
      "                  WHERE composer_id = Composers.id\n",
      "            ''', conn)"
     ],
     "language": "python",
     "metadata": {},
     "outputs": [
      {
       "html": [
        "<div style=\"max-height:1000px;max-width:1500px;overflow:auto;\">\n",
        "<table border=\"1\" class=\"dataframe\">\n",
        "  <thead>\n",
        "    <tr style=\"text-align: right;\">\n",
        "      <th></th>\n",
        "      <th>name</th>\n",
        "      <th>type</th>\n",
        "      <th>composer name</th>\n",
        "    </tr>\n",
        "  </thead>\n",
        "  <tbody>\n",
        "    <tr>\n",
        "      <th>0</th>\n",
        "      <td> Cello Concerto No. 2 in D</td>\n",
        "      <td> concertos</td>\n",
        "      <td>            Joseph Haydn</td>\n",
        "    </tr>\n",
        "    <tr>\n",
        "      <th>1</th>\n",
        "      <td>       Apollo and Hyacinth</td>\n",
        "      <td>     opera</td>\n",
        "      <td> Wolfgang Amadeus Mozart</td>\n",
        "    </tr>\n",
        "    <tr>\n",
        "      <th>2</th>\n",
        "      <td>     Bastien and Bastienne</td>\n",
        "      <td>     opera</td>\n",
        "      <td> Wolfgang Amadeus Mozart</td>\n",
        "    </tr>\n",
        "  </tbody>\n",
        "</table>\n",
        "</div>"
       ],
       "metadata": {},
       "output_type": "pyout",
       "prompt_number": 4,
       "text": [
        "                        name       type            composer name\n",
        "0  Cello Concerto No. 2 in D  concertos             Joseph Haydn\n",
        "1        Apollo and Hyacinth      opera  Wolfgang Amadeus Mozart\n",
        "2      Bastien and Bastienne      opera  Wolfgang Amadeus Mozart"
       ]
      }
     ],
     "prompt_number": 4
    },
    {
     "cell_type": "code",
     "collapsed": false,
     "input": [
      "conn.close()"
     ],
     "language": "python",
     "metadata": {},
     "outputs": [],
     "prompt_number": 5
    },
    {
     "cell_type": "heading",
     "level": 1,
     "metadata": {},
     "source": [
      "HIA Part II: Who Asked These Questions"
     ]
    },
    {
     "cell_type": "heading",
     "level": 2,
     "metadata": {},
     "source": [
      "How data could be most efficiently stored on a disk"
     ]
    },
    {
     "cell_type": "markdown",
     "metadata": {},
     "source": [
      "This question is more likely to be asked by the database administrator <cite data-cite=\"[DBA]wiki:dba\"></cite>. DBA is responsible for the installation, configuration, upgrading, administration, monitoring, maintenance, and security of databases in an organization. Each hard disk has limited size. For larger database, the DBA need to decide how to balance the use of the physical hard disks. When the database grew even larger, DBA need to decide how to partition the database, <cite data-cite=\"wiki:partition\"></cite>."
     ]
    },
    {
     "cell_type": "heading",
     "level": 2,
     "metadata": {},
     "source": [
      "If there is a vacancy on Flight 243"
     ]
    },
    {
     "cell_type": "markdown",
     "metadata": {},
     "source": [
      "This question is asked by the end-user."
     ]
    },
    {
     "cell_type": "heading",
     "level": 2,
     "metadata": {},
     "source": [
      "How a relation could be stored as a sequential file"
     ]
    },
    {
     "cell_type": "markdown",
     "metadata": {},
     "source": [
      "This is the concern of the programmer of application software. The choice of using a sequential file <cite data-cite=\"[406]brookshear1997computer\"></cite>, typically, doesn't involve any DBMS. Programmers need to decide by themselves on how to structure the file. It's like creating a Do-It-Yourself database."
     ]
    },
    {
     "cell_type": "heading",
     "level": 2,
     "metadata": {},
     "source": [
      "How many times a user should be allowed to mistype a password before a conversation is terminated."
     ]
    },
    {
     "cell_type": "markdown",
     "metadata": {},
     "source": [
      "This sounds like a question asked by the programming of application software. But it should be decided by one type of end-user, the operator, or owner of the business. Password re-trying is a feature of the application. So, user should decide that. But as the programmers are software experts, they might have more meaningful suggestions on how to balance security and flexibility. And last, the DBA knows better how strong the password is secured in the database, so they can also give suggestions on this."
     ]
    },
    {
     "cell_type": "heading",
     "level": 2,
     "metadata": {},
     "source": [
      "How the PROJECT operation (of the relational model) can be implemented"
     ]
    },
    {
     "cell_type": "markdown",
     "metadata": {},
     "source": [
      "The designer of database management system software need to ask this question. Projection is a concept from relational algebra <cite data-cite=\"wiki:projection\"></cite>. It means collecting a subset of columns [394]brookshear1997computer\"></cite>. The DBMS designer need to think about how to implement it in a real life database. For example, in the SQL for MySQL database, both selection and projection are done by the SELECT command.\n",
      "\n",
      "```\n",
      "SELECT name, gender, age\n",
      "FROM students\n",
      "WHERE grade = 1\n",
      "```\n",
      "\n",
      "Will do both selection on the rows and the projection on columns.\n",
      "\n",
      "The designer of the DBMS need also to decide where to put the result of the PROJECT operation. It's a subset of the original table and change on the PROJECT result should reflect on the original table in real-time."
     ]
    },
    {
     "cell_type": "heading",
     "level": 1,
     "metadata": {},
     "source": [
      "HIA Part III:"
     ]
    },
    {
     "cell_type": "markdown",
     "metadata": {},
     "source": [
      "Below are the two tables (Employees and Departent) implemented in SQLite database."
     ]
    },
    {
     "cell_type": "code",
     "collapsed": false,
     "input": [
      "!rm exercise3.db\n",
      "conn = sqlite3.connect('exercise3.db')\n",
      "c = conn.cursor()\n",
      "\n",
      "# Create tables\n",
      "c.execute('''CREATE TABLE Employees (\n",
      "                Name              TEXT,\n",
      "                Email_address     TEXT,\n",
      "                Location          INTEGER)''')\n",
      "c.execute('''CREATE TABLE Department  (\n",
      "                Manager_Name      TEXT,\n",
      "                Floor_Number      INTEGER)''')\n",
      "\n",
      "# Insert data\n",
      "c.execute('INSERT INTO Employees VALUES (\"John\", \"John.john@abxz.com\", 5)')\n",
      "c.execute('INSERT INTO Employees VALUES (\"Mary\", \"m.smith@abxz.com\", 3)')\n",
      "c.execute('INSERT INTO Employees VALUES (\"Philip\", \"philipx@abxz.com\", 5)')\n",
      "c.execute('INSERT INTO Department VALUES (\"Karen\", 4)')\n",
      "c.execute('INSERT INTO Department VALUES (\"David\", 5)')\n",
      " \n",
      "# Save (commit) the changes\n",
      "conn.commit()"
     ],
     "language": "python",
     "metadata": {},
     "outputs": [],
     "prompt_number": 17
    },
    {
     "cell_type": "heading",
     "level": 2,
     "metadata": {},
     "source": [
      "RESULT = PROJECT Location from Employees"
     ]
    },
    {
     "cell_type": "markdown",
     "metadata": {},
     "source": [
      "The PROJECT operation is implemented by `SELECT <columns> FROM <table>` command in most SQL implementations. So, the result of this operation is:"
     ]
    },
    {
     "cell_type": "code",
     "collapsed": false,
     "input": [
      "pd.read_sql(\"SELECT Location FROM Employees\", conn)"
     ],
     "language": "python",
     "metadata": {},
     "outputs": [
      {
       "html": [
        "<div style=\"max-height:1000px;max-width:1500px;overflow:auto;\">\n",
        "<table border=\"1\" class=\"dataframe\">\n",
        "  <thead>\n",
        "    <tr style=\"text-align: right;\">\n",
        "      <th></th>\n",
        "      <th>Location</th>\n",
        "    </tr>\n",
        "  </thead>\n",
        "  <tbody>\n",
        "    <tr>\n",
        "      <th>0</th>\n",
        "      <td> 5</td>\n",
        "    </tr>\n",
        "    <tr>\n",
        "      <th>1</th>\n",
        "      <td> 3</td>\n",
        "    </tr>\n",
        "    <tr>\n",
        "      <th>2</th>\n",
        "      <td> 5</td>\n",
        "    </tr>\n",
        "  </tbody>\n",
        "</table>\n",
        "</div>"
       ],
       "metadata": {},
       "output_type": "pyout",
       "prompt_number": 18,
       "text": [
        "   Location\n",
        "0         5\n",
        "1         3\n",
        "2         5"
       ]
      }
     ],
     "prompt_number": 18
    },
    {
     "cell_type": "heading",
     "level": 2,
     "metadata": {},
     "source": [
      "RESULT = SELECT from Employees where Location = 5"
     ]
    },
    {
     "cell_type": "markdown",
     "metadata": {},
     "source": [
      "The SELECT operation is to select the rows, and is implemented by `SELECT * FROM <table> WHERE <condition>` in most SQL implementations. So, the result of this operation is:"
     ]
    },
    {
     "cell_type": "code",
     "collapsed": false,
     "input": [
      "pd.read_sql(\"SELECT * FROM Employees WHERE Location = 5\", conn)"
     ],
     "language": "python",
     "metadata": {},
     "outputs": [
      {
       "html": [
        "<div style=\"max-height:1000px;max-width:1500px;overflow:auto;\">\n",
        "<table border=\"1\" class=\"dataframe\">\n",
        "  <thead>\n",
        "    <tr style=\"text-align: right;\">\n",
        "      <th></th>\n",
        "      <th>Name</th>\n",
        "      <th>Email_address</th>\n",
        "      <th>Location</th>\n",
        "    </tr>\n",
        "  </thead>\n",
        "  <tbody>\n",
        "    <tr>\n",
        "      <th>0</th>\n",
        "      <td>   John</td>\n",
        "      <td> John.john@abxz.com</td>\n",
        "      <td> 5</td>\n",
        "    </tr>\n",
        "    <tr>\n",
        "      <th>1</th>\n",
        "      <td> Philip</td>\n",
        "      <td>   philipx@abxz.com</td>\n",
        "      <td> 5</td>\n",
        "    </tr>\n",
        "  </tbody>\n",
        "</table>\n",
        "</div>"
       ],
       "metadata": {},
       "output_type": "pyout",
       "prompt_number": 19,
       "text": [
        "     Name       Email_address  Location\n",
        "0    John  John.john@abxz.com         5\n",
        "1  Philip    philipx@abxz.com         5"
       ]
      }
     ],
     "prompt_number": 19
    },
    {
     "cell_type": "heading",
     "level": 2,
     "metadata": {},
     "source": [
      "RESULT = PROJECT Floor_# from Department"
     ]
    },
    {
     "cell_type": "markdown",
     "metadata": {},
     "source": [
      "Same as the first operation."
     ]
    },
    {
     "cell_type": "code",
     "collapsed": false,
     "input": [
      "pd.read_sql(\"SELECT Floor_Number FROM Department\", conn)"
     ],
     "language": "python",
     "metadata": {},
     "outputs": [
      {
       "html": [
        "<div style=\"max-height:1000px;max-width:1500px;overflow:auto;\">\n",
        "<table border=\"1\" class=\"dataframe\">\n",
        "  <thead>\n",
        "    <tr style=\"text-align: right;\">\n",
        "      <th></th>\n",
        "      <th>Floor_Number</th>\n",
        "    </tr>\n",
        "  </thead>\n",
        "  <tbody>\n",
        "    <tr>\n",
        "      <th>0</th>\n",
        "      <td> 4</td>\n",
        "    </tr>\n",
        "    <tr>\n",
        "      <th>1</th>\n",
        "      <td> 5</td>\n",
        "    </tr>\n",
        "  </tbody>\n",
        "</table>\n",
        "</div>"
       ],
       "metadata": {},
       "output_type": "pyout",
       "prompt_number": 9,
       "text": [
        "   Floor_Number\n",
        "0             4\n",
        "1             5"
       ]
      }
     ],
     "prompt_number": 9
    },
    {
     "cell_type": "heading",
     "level": 2,
     "metadata": {},
     "source": [
      "RESULT = JOIN Employees and Department where Employees.Location = Department.Floor_Number"
     ]
    },
    {
     "cell_type": "markdown",
     "metadata": {},
     "source": [
      "The JOIN operation is to join the columns of two tables with a given condition. In SQL, it's often implemented as `SELECT * FROM <table1> JOIN <table2> WHERE <condition>`. So the result is:"
     ]
    },
    {
     "cell_type": "code",
     "collapsed": false,
     "input": [
      "pd.read_sql(\"\"\"SELECT *\n",
      "               FROM Employees\n",
      "               JOIN Department \n",
      "               WHERE Employees.Location = Department.Floor_Number\n",
      "            \"\"\", conn)"
     ],
     "language": "python",
     "metadata": {},
     "outputs": [
      {
       "html": [
        "<div style=\"max-height:1000px;max-width:1500px;overflow:auto;\">\n",
        "<table border=\"1\" class=\"dataframe\">\n",
        "  <thead>\n",
        "    <tr style=\"text-align: right;\">\n",
        "      <th></th>\n",
        "      <th>Name</th>\n",
        "      <th>Email_address</th>\n",
        "      <th>Location</th>\n",
        "      <th>Manager_Name</th>\n",
        "      <th>Floor_Number</th>\n",
        "    </tr>\n",
        "  </thead>\n",
        "  <tbody>\n",
        "    <tr>\n",
        "      <th>0</th>\n",
        "      <td>   John</td>\n",
        "      <td> John.john@abxz.com</td>\n",
        "      <td> 5</td>\n",
        "      <td> David</td>\n",
        "      <td> 5</td>\n",
        "    </tr>\n",
        "    <tr>\n",
        "      <th>1</th>\n",
        "      <td> Philip</td>\n",
        "      <td>   philipx@abxz.com</td>\n",
        "      <td> 5</td>\n",
        "      <td> David</td>\n",
        "      <td> 5</td>\n",
        "    </tr>\n",
        "  </tbody>\n",
        "</table>\n",
        "</div>"
       ],
       "metadata": {},
       "output_type": "pyout",
       "prompt_number": 22,
       "text": [
        "     Name       Email_address  Location Manager_Name  Floor_Number\n",
        "0    John  John.john@abxz.com         5        David             5\n",
        "1  Philip    philipx@abxz.com         5        David             5"
       ]
      }
     ],
     "prompt_number": 22
    },
    {
     "cell_type": "markdown",
     "metadata": {},
     "source": [
      "Be a good citizen and close the connection before we leave."
     ]
    },
    {
     "cell_type": "code",
     "collapsed": false,
     "input": [
      "conn.close()"
     ],
     "language": "python",
     "metadata": {},
     "outputs": [],
     "prompt_number": 11
    }
   ],
   "metadata": {}
  }
 ]
}