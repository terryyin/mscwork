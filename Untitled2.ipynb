{
 "metadata": {
  "name": "",
  "signature": "sha256:ea20e7afe780cfa8fbd776a61177cc9b9647e9cfe6cbc84903b3f6db62726ab7"
 },
 "nbformat": 3,
 "nbformat_minor": 0,
 "worksheets": [
  {
   "cells": [
    {
     "cell_type": "markdown",
     "metadata": {},
     "source": [
      "Progressive enhancement is a strategy that provides the basic functionality for most browsers, and has better accessibility for browsers that supporting richer features.\n",
      "\n",
      "I made up the following example to explain what progressive enhancement is."
     ]
    },
    {
     "cell_type": "heading",
     "level": 1,
     "metadata": {},
     "source": [
      "The image thumbnail link example"
     ]
    },
    {
     "cell_type": "heading",
     "level": 2,
     "metadata": {},
     "source": [
      "The basic view"
     ]
    },
    {
     "cell_type": "markdown",
     "metadata": {},
     "source": [
      "With the follow HTML code snippets, any browser that support basic HTML will be able to display a thumbnail of an image. When the image is clicked, it will redirect the page to show the full image."
     ]
    },
    {
     "cell_type": "markdown",
     "metadata": {},
     "source": [
      "```python\n",
      "<a class=\"thumbnail\" href=\"/img/1.jpg\">\n",
      "    <img src=\"/img/1-thumbnail.jpg\" />\n",
      "</a>\n",
      "```"
     ]
    },
    {
     "cell_type": "heading",
     "level": 2,
     "metadata": {},
     "source": [
      "The Style"
     ]
    },
    {
     "cell_type": "markdown",
     "metadata": {},
     "source": [
      "For any browser that support CSS style, the following code in CSS file will make the thumbnail prettier by adding a grey rounded border to it. But it will function the same no matter the browser support the CSS or not."
     ]
    },
    {
     "cell_type": "markdown",
     "metadata": {},
     "source": [
      "```css\n",
      ".thumbnail img {\n",
      "    padding: 4px;\n",
      "    background-color: white;\n",
      "    border: 1px solid #dddddd;\n",
      "    border-radius: 4px;\n",
      "}\n",
      "```"
     ]
    },
    {
     "cell_type": "heading",
     "level": 2,
     "metadata": {},
     "source": [
      "The JavaScript"
     ]
    },
    {
     "cell_type": "markdown",
     "metadata": {},
     "source": [
      "For a browser that support JavaScript, the behavior will be a bit different if the page link to the following external JavaScript code. It will add a event handler for the thumbnail when the HTML document is loaded in the browser. Then when user click the thumbnail, instead of redirecting the page to show the image, it will display the image in a dialog. But if the browser doesn't have JavaScript enabled, user will still get what he want."
     ]
    },
    {
     "cell_type": "markdown",
     "metadata": {},
     "source": [
      "```javascript\n",
      "// the following JavaScript code uses two external\n",
      "// open source JavaScript libraries:\n",
      "//   * jQuery\n",
      "//   * BootBox: http://bootboxjs.com/\n",
      "\n",
      "function showPictureBox() {\n",
      "  bootbox.dialog({\n",
      "    message: '<img src=\"'+$(this).attr(\"href\")+'\" width=\"100%\"/>'\n",
      "  });\n",
      "  return false;\n",
      "}\n",
      "\n",
      "\\$( document ).on('page:load', function() {\n",
      "    $(\"a.thumbnail\").on('click', showPictureBox);\n",
      "});\n",
      "```"
     ]
    },
    {
     "cell_type": "heading",
     "level": 2,
     "metadata": {},
     "source": [
      "References"
     ]
    },
    {
     "cell_type": "markdown",
     "metadata": {},
     "source": [
      "Progressive enhancement. (2015, January 24). In Wikipedia, The Free Encyclopedia. Retrieved 03:14, February 2, 2015, from http://en.wikipedia.org/w/index.php?title=Progressive_enhancement&oldid=643938737"
     ]
    },
    {
     "cell_type": "markdown",
     "metadata": {},
     "source": [
      "https://github.com/makeusabrew/bootbox"
     ]
    },
    {
     "cell_type": "markdown",
     "metadata": {},
     "source": [
      "http://jquery.com/"
     ]
    }
   ],
   "metadata": {}
  }
 ]
}