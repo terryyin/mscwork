{
 "metadata": {
  "name": "",
  "signature": "sha256:25f75e3f815218fd2470b7ab848d5298410b3f393859068f49cb8c3a6a8afea0"
 },
 "nbformat": 3,
 "nbformat_minor": 0,
 "worksheets": [
  {
   "cells": [
    {
     "cell_type": "heading",
     "level": 1,
     "metadata": {},
     "source": [
      "Challenge from the traditional computer memory hierarchy"
     ]
    },
    {
     "cell_type": "markdown",
     "metadata": {},
     "source": [
      "About 30 years ago in one cold morning, I saw my father making fire under his truck to unfrozen the engine and then use the starting handle to start the vehicle. The whole process took like an hour, and it looked scary to me."
     ]
    },
    {
     "cell_type": "markdown",
     "metadata": {},
     "source": [
      "The basic memory hierarchy of the modern computer system has two levels, the main memory and the secondary memory. The main memory is volatile, and the secondary memory is non-volatile.\n",
      "\n",
      "|  | Main memory | Secondary memory |\n",
      "| ------------- |:-------------:|:-----:|\n",
      "| speed | **fast** | slow |\n",
      "| persistent | volatile | **non-volatile** |\n",
      "| price | expensive | **cheap** |\n",
      "| address | **byte** | bulk |\n",
      "| energy | inefficient | **efficient** |"
     ]
    },
    {
     "cell_type": "markdown",
     "metadata": {},
     "source": [
      "But the memory hierarchy in a real computer architecture is rarely just two levels. Because we couldn't get all the good things in one level, we had to resort to the good old tool of computer science, \"another level of indirection\", <cite data-cite=\"Spi07g\"></cite>. So a typical memory hierarchy is like (picture from wikipedia.org):\n",
      "\n",
      "<img src=\"resources/memoryhierarchy.png\" width=\"50%\">"
     ]
    },
    {
     "cell_type": "markdown",
     "metadata": {},
     "source": [
      "And these are only the indirections of the hardware. On the software side, there are more levels of indirections, optimizing compilers, segmentation, memory paging, virtual memory, file system, hot spare, just some examples. These are all the indirections between the processor and where the data is finally located."
     ]
    },
    {
     "cell_type": "markdown",
     "metadata": {},
     "source": [
      "The beautiful part of this story is, from a programmer's view there are only two levels, main memory and secondary memory."
     ]
    },
    {
     "cell_type": "markdown",
     "metadata": {},
     "source": [
      "The ugly part of this story is, too many levels in the memory hierarchy made the computer architecture over complicated. Some bugs become very tricky, and the compatibility becomes lower. Sub-optimization is very common, which mean the optimization in a part of the system lower the overall performance of the whole system. As <cite data-cite=\"drepper2007every\"></cite> pointed out:\n",
      "\n",
      ">\"Hardware designers have come up with ever more sophisticated memory handling and acceleration techniques\u2013such as CPU caches\u2013but these cannot work optimally without some help from the programmer. Unfortunately, neither the structure nor the cost of using the memory subsystem of a computer or the caches on CPUs is well understood by most programmers.\""
     ]
    },
    {
     "cell_type": "markdown",
     "metadata": {},
     "source": [
      "Another problem of having only the volatile memory as main memory is just like the engine starter story I shared in the beginning, starting a computer is very slow. Designing a high availability system has been very challenging and introduced too much extra complexity. The volatile memory also needs energy all the time to maintain the data. Given the demand for high availability services and fast developing data centers, the current memory hierarchy is becoming a big problem."
     ]
    },
    {
     "cell_type": "heading",
     "level": 1,
     "metadata": {},
     "source": [
      "The impacts of non-volatile memory"
     ]
    },
    {
     "cell_type": "markdown",
     "metadata": {},
     "source": [
      "These days in the winter, I just press a button, and my car will start immediately (Well, the fact that I live in Singapore and I don't actually own a car shouldn't matter). It's not because my car has a strong heater, or I have somebody helping me to spin the handle. It's because the liquid doesn't freeze, and the battery doesn't run out that fast now."
     ]
    },
    {
     "cell_type": "heading",
     "level": 2,
     "metadata": {},
     "source": [
      "The ideal future"
     ]
    },
    {
     "cell_type": "markdown",
     "metadata": {},
     "source": [
      "As the improvement in the cars, The emerging fast and cheap non-volatile memory may stop us from adding more levels in the memory hierarchy and eventually simplify the hierarchy."
     ]
    },
    {
     "cell_type": "markdown",
     "metadata": {},
     "source": [
      "> \"Simplicity is the ultimate sophistication.\"\n",
      ">\n",
      "> Leonardo da Vinci"
     ]
    },
    {
     "cell_type": "markdown",
     "metadata": {},
     "source": [
      "Having the fast and massive non-volatile memory as the main memory, or the only level of memory, as in <cite data-cite=\"perez2012\"></cite>, we can expect:\n",
      "\n",
      "* Lower energy consumption\n",
      "* improve current memory hierarchies\n",
      "* allow memory systems to continue scaling up\n",
      "* Devices that has higher availability and longer duration, e.g. normally-off computer, <cite data-cite=\"9598283620140507\"></cite>"
     ]
    },
    {
     "cell_type": "markdown",
     "metadata": {},
     "source": [
      "Among all these opportunities brought by non-volatile memory, I think the most impacts will come from the simplification of the memory hierarchies. With a simple structure, computer systems will become more reliable and it allows us to build more complicated system based on it."
     ]
    },
    {
     "cell_type": "heading",
     "level": 2,
     "metadata": {},
     "source": [
      "Some potential challenge when non-volatile memory goes upward in the memory hierarchy"
     ]
    },
    {
     "cell_type": "markdown",
     "metadata": {},
     "source": [
      "The ideal one level memory hierarchy with cheap, massive, energy efficient, fast and non-volatile memory will not happen very easy nor very soon. Some concerns also showed like in <cite data-cite=\"perez2012\"></cite>,\"Actually, the introduction of these new technologies will probably result in **more complex hierarchies** instead of simpler ones.\""
     ]
    },
    {
     "cell_type": "markdown",
     "metadata": {},
     "source": [
      "In some situation, volatile memory is an important security feature. With only non-volatile memory, to replicate that feature will add more complexity to the system."
     ]
    },
    {
     "cell_type": "heading",
     "level": 1,
     "metadata": {},
     "source": [
      "Conclusion and what user can expect"
     ]
    },
    {
     "cell_type": "markdown",
     "metadata": {},
     "source": [
      "The non-volatile memory will go up in the memory hierarchy and eventually simplify the memory hierarchy. Because of the usage of non-volatile memory as the main memory (maybe the only memory), user could expect more available computers. Just like the availability of cars today compares to 30 years in the cold winter. The computers will use a lot less energy than today. The mobile devices will have longer duration. Because of the simplification of the memory hierarchy, user will experience higher quality and more reliable computer systems."
     ]
    }
   ],
   "metadata": {}
  }
 ]
}