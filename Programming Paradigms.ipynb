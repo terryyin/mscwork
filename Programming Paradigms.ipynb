{
 "metadata": {
  "name": "",
  "signature": "sha256:07e73cc9b04370d80c3b119a39ed6be737f8aae4283ed55b35962e25a802236a"
 },
 "nbformat": 3,
 "nbformat_minor": 0,
 "worksheets": [
  {
   "cells": [
    {
     "cell_type": "markdown",
     "metadata": {},
     "source": [
      "Just like there are many different painting styles that artists can use to represent their arts, there are many different fundamental programming styles programmers can use to code their program. These fundamental styles in programming are called **programming paradigms**, <cite data-cite=\"[p.244]colburn2007abstraction\"></cite>. Just like painting styles are often related to the painting materials that artists use, programming paradigms are often related to programming languages."
     ]
    },
    {
     "cell_type": "markdown",
     "metadata": {},
     "source": [
      "One early programming paradigm is **procedural programming**. It has a couple of related paradigms, including **imperative programming** and **structured programming**. Examples of programming languages that support procedural programming paradigm are C, C++, Java and Python, <cite data-cite=\"wiki:paradigm\"></cite>. Procedural programming instructs the computer what to do in a step by step style. These steps can be organized in a structured way, e.g. into functions (or procedures), and modules. Data and data types that are operated by the functions or modules are represented separately. But data in procedural programming could have different **scopes** within the program. Some data could have global scope, which means they could be accessed anywhere in the program. Some have local scope, which means they could only be accessed within the scope where it's defined, <cite data-cite=\"[p.260]colburn2007abstraction\"></cite>. Procedural programming paradigm introduced the modularity into programming and made large program easier to manage."
     ]
    },
    {
     "cell_type": "markdown",
     "metadata": {},
     "source": [
      "But having only **scope** is not enough to represent the cohesion between a certain type of data and the operation on them. Around 1974, Barbara Liskov and Stephen N. Zilles first introduce the idea of **Abstract Data Type**, which logically combine the data type and its operation together, <cite data-cite=\"[ADT]liskov1974programming\"></cite>. ADT can be implemented with a procedural language like C. It could make the program structure more clear and easier to maintain."
     ]
    },
    {
     "cell_type": "markdown",
     "metadata": {},
     "source": [
      "The **ADT** model was then further extended into the **object-oriented programming** paradigm, with a lot of other elements people believed that were good ideas. And OO programming paradigm can be found in most of the new programming languages, like Java, C++, Python and Ruby. C++ is very often considered an OO language. The new elements in OOP other than abstract data type include inheritance, encapsulation, polymorphism, message passing, etc, etc. There are quite a lot of \"good\" things. And it's not easy to understand what does these hard words really mean, <cite data-cite=\"meyerovich2013empirical\"></cite> (unfortunately, the referenced paper uses Sourceforge as the main data source. It would be more convincing if it was Github)."
     ]
    },
    {
     "cell_type": "markdown",
     "metadata": {},
     "source": [
      "It was generally believed that **inheritance** is a great way of software reuse. In year 1995, a great book on OO design was published, and it changed this believing of a lot of programmers. This great book is called _Design Patterns: Elements of Reusable Object-Oriented Software_, <cite data-cite=\"gamma1994design\"></cite>, by Erich Gamma, Richard Helm, Ralph Johnson and John Vlissides, who were later referred as the Gang Of Four, (not to be confused with the Gang Of Four in the contemporary history of China). They said: \"Favor 'object composition' over 'class inheritance'.\" But this didn't prevent many programmers to misuse inheritance all the time. OO language has dominate the software industry for about two decades, but there's hardly any evidence that it improved anything at all, <cite data-cite=\"cardelli1996bad\"></cite>."
     ]
    },
    {
     "cell_type": "markdown",
     "metadata": {},
     "source": [
      "One of the quite arguable **design patterns** in OO programming is the **Singleton Pattern**, <cite data-cite=\"[p.138]gamma1994design\"></cite>. A Singleton is an only instance of a type of data in the whole system. In a procedural programming paradigm, a singleton is nothing but a global variable. It brings the global state to the system, which increase the overall complexity of the system. As there are more and more need for parallel processing, programs that designed in procedural or OO programming paradigm often depends heavily on the singleton pattern to communicate between the processes or threads."
     ]
    },
    {
     "cell_type": "markdown",
     "metadata": {},
     "source": [
      "**Functional programming** is a programming paradigm that avoiding changing the global state or having any **side-effect**. It treats function as the \"first class citizen\", which means you can use a function as the parameter to the other function. Examples are Erlang, Haskell, JavaScript and Python. Because functional programming avoids changing global state, the need for mutual exclusion between processes is eliminated. So functional programming has a great opportunity in the era of parallel processing."
     ]
    },
    {
     "cell_type": "markdown",
     "metadata": {},
     "source": [
      "In the past, the hot topic of major programming paradigm evolved first from needing high level language, next to procedure programming, then to object-oriented programming, and last to functional programming. Each topic dominated for about 20 years, <cite data-cite=\"bruce\"></cite>. Besides the major paradigm, there is another often used programming paradigm named the **declarative programming**. declarative programming style builds the program by describing the problem without specifying the detailed steps instructing the computer. Functional programming is also one type of declarative programming. There are other examples like SQL, regular expression and CSS."
     ]
    },
    {
     "cell_type": "markdown",
     "metadata": {},
     "source": [
      "What? You don't think CSS is a programming language? If it's not a programming language, why do I need to write unit test for it, <cite data-cite=\"quixote\"></cite>? \"Quixote\" is a new open source unit test framework for CSS set up by James Shore last month."
     ]
    }
   ],
   "metadata": {}
  }
 ]
}