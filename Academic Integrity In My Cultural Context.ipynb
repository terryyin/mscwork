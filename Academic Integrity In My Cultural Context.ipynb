{
 "metadata": {
  "name": "",
  "signature": "sha256:67f006d1418e4db911188b4b09cbb206a8f40e4f87b21d5890ec2fe4a7cf4ab5"
 },
 "nbformat": 3,
 "nbformat_minor": 0,
 "worksheets": [
  {
   "cells": [
    {
     "cell_type": "heading",
     "level": 1,
     "metadata": {},
     "source": [
      "My (Chinese) Cultural Attitudes and Practices"
     ]
    },
    {
     "cell_type": "markdown",
     "metadata": {},
     "source": [
      "In the traditional Chinese Confucius culture, a general belief as cited by <cite data-cite=\"alford1995steal\"></cite> is \"To Steal a Book Is an Elegant Offence\", which was first mentioned in a short story published in 1919 by the famous Chinese writer Lu Xun <cite data-cite=\"xun1969kong\"></cite>. This belief has led to the conflict between China and the western world in the business and academical world.\n",
      "\n",
      "In defensive of the culture, I would say traditional Chinese scholars were awared of the ownership of intellectual property, otherwise they would not need to find an excuse like above mentioned. The properties themselves had got more attentions than their owners. The most famous Chinese traditional books, although they all have an author, were mostly co-authorized by many unknown people over many many years. It seemed that this culture cared about spreading the knowledge and encourage inspiration instead of rewarding the individual or keeping secret. But the result is unfortunately that the China 100 years ago was far behind the western world in sciences. So the western academic system has been introduced to China."
     ]
    },
    {
     "cell_type": "heading",
     "level": 1,
     "metadata": {},
     "source": [
      "My Community And The Trend"
     ]
    },
    {
     "cell_type": "markdown",
     "metadata": {},
     "source": [
      "I work in the fast evolving information technology industry. \n",
      "I'm surrounded by fast learning companies and I'm among a lot of fast learners. This community has changed from big fish eats small fish to fast fish eats slow fish. \n",
      "On one hand A knowledge worker can only stay competitive by learning fast and sharing generously. \n",
      "On the other hand, these knowledge workers pay more attentions to intellectual property because they\n",
      "are also knowledge creators.\n",
      "\n",
      "I also work in open source software community, where people respect intellectual property but also love to share. I use the following \"Beer-ware license\" in one project <cite data-cite=\"wiki:beerware\"></cite>:"
     ]
    },
    {
     "cell_type": "code",
     "collapsed": false,
     "input": [
      "# ----------------------------------------------------------------------------\n",
      "# \"THE BEER-WARE LICENSE\" (Revision 42):\n",
      "# <terry.yinzhe@gmail.com> wrote this file. As long as you retain this notice you\n",
      "# can do whatever you want with this stuff. If we meet some day, and you think\n",
      "# this stuff is worth it, you can buy me a beer in return to Terry Yin."
     ],
     "language": "python",
     "metadata": {},
     "outputs": [],
     "prompt_number": 1
    },
    {
     "cell_type": "markdown",
     "metadata": {},
     "source": [
      "In many cases, when there are choices, I would usually prefer the open source software. Not just because they are free, but because they are better. They are often better because they have better and more healthy eco system than commercial software. And the \"free\" here is more as free in speech than in beer. I think a culture of academic integrity is the essense of this \"free\"dom."
     ]
    },
    {
     "cell_type": "heading",
     "level": 1,
     "metadata": {},
     "source": [
      "My Approach For Referencing"
     ]
    },
    {
     "cell_type": "markdown",
     "metadata": {},
     "source": [
      "It's important to value the others' work and follow the regulation. I didn't form a good and formal academic habit in my previous study and work. I will train myself to always try to use reliable source to back up my points and always use proper citation and references, in the preferred format.\n",
      "\n",
      "I'm going to use IPython Notebook <cite data-cite=\"PER-GRA:2007\"></cite> to compose the essays of my academic assignments. Because\n",
      "\n",
      "* it allows me to write articles in markdown language.\n",
      "* it supports inline Python coding and running. Will be useful for my future study.\n",
      "* it can have inline LaTex code to create mathematical formulas.\n",
      "* more important, I can use BibTeX to manage all the references, <cite data-cite=\"wiki:bibtex\"></cite>.\n",
      "\n",
      "From now on, when I read a good book, article, paper or webpage that I might refer to in the future, I will mark it down in my BibTeX bibliography file.\n",
      "\n",
      "Submitting my work to Turnitin will make sure I'm citing the others' right. The Originality Report generate by Turnitin is a feedback tool for how well I'm doing it. And it will make sure that my academic honesty is subjective. <cite data-cite=\"turnitin\"></cite>\n",
      "\n"
     ]
    },
    {
     "cell_type": "code",
     "collapsed": false,
     "input": [],
     "language": "python",
     "metadata": {},
     "outputs": [],
     "prompt_number": 1
    },
    {
     "cell_type": "code",
     "collapsed": false,
     "input": [],
     "language": "python",
     "metadata": {},
     "outputs": []
    }
   ],
   "metadata": {}
  }
 ]
}