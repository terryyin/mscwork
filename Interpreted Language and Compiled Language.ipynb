{
 "metadata": {
  "name": "",
  "signature": "sha256:fcff8f558a3c223809c5994e2a92d72b3005bca42a3680cae564a1be2c0f9c61"
 },
 "nbformat": 3,
 "nbformat_minor": 0,
 "worksheets": [
  {
   "cells": [
    {
     "cell_type": "heading",
     "level": 1,
     "metadata": {},
     "source": [
      "Interpreted language"
     ]
    },
    {
     "cell_type": "code",
     "collapsed": false,
     "input": [
      "!turn left"
     ],
     "language": "python",
     "metadata": {},
     "outputs": [
      {
       "output_type": "stream",
       "stream": "stdout",
       "text": [
        "/bin/sh: turn: command not found\r\n"
       ]
      }
     ],
     "prompt_number": 61
    },
    {
     "cell_type": "code",
     "collapsed": false,
     "input": [
      "!go left"
     ],
     "language": "python",
     "metadata": {},
     "outputs": [
      {
       "output_type": "stream",
       "stream": "stdout",
       "text": [
        "/bin/sh: go: command not found\r\n"
       ]
      }
     ],
     "prompt_number": 7
    },
    {
     "cell_type": "code",
     "collapsed": false,
     "input": [
      "!find direction"
     ],
     "language": "python",
     "metadata": {},
     "outputs": [
      {
       "output_type": "stream",
       "stream": "stdout",
       "text": [
        "find: direction: No such file or directory\r\n"
       ]
      }
     ],
     "prompt_number": 12
    },
    {
     "cell_type": "code",
     "collapsed": false,
     "input": [
      "!make ourway"
     ],
     "language": "python",
     "metadata": {},
     "outputs": [
      {
       "output_type": "stream",
       "stream": "stdout",
       "text": [
        "make: *** No rule to make target `ourway'.  Stop.\r\n"
       ]
      }
     ],
     "prompt_number": 3
    },
    {
     "cell_type": "markdown",
     "metadata": {},
     "source": [
      "Now you are stuck in the middle of your way to your friend's place in a foreign city. And you are getting frustrated with this unix shell (`/bin/sh`) based vehicle, <cite data-cite=\"wiki:shell\"></cite>. It doesn't seem to understand your command. But at least the shell program tried to interpret your command immediately and give you some feedback."
     ]
    },
    {
     "cell_type": "code",
     "collapsed": false,
     "input": [
      "!find grocery_store"
     ],
     "language": "python",
     "metadata": {},
     "outputs": [
      {
       "output_type": "stream",
       "stream": "stdout",
       "text": [
        "grocery_store\r\n"
       ]
      }
     ],
     "prompt_number": 62
    },
    {
     "cell_type": "markdown",
     "metadata": {},
     "source": [
      "Ok, it seems the smart vehicle has found the `grocery_store` you pointed to it. It's a good start. Now you learned more commands you can use on the vehicle. You can even program the vehicle with multiple commands:"
     ]
    },
    {
     "cell_type": "code",
     "collapsed": false,
     "input": [
      "!echo \"trip start...\"\n",
      "!if find grocery_store; then echo \"I saw it\"; else echo \"what?\";fi\n",
      "!echo \"thanks for using our service.\""
     ],
     "language": "python",
     "metadata": {},
     "outputs": [
      {
       "output_type": "stream",
       "stream": "stdout",
       "text": [
        "trip start...\r\n"
       ]
      },
      {
       "output_type": "stream",
       "stream": "stdout",
       "text": [
        "grocery_store\r\n",
        "I saw it\r\n"
       ]
      },
      {
       "output_type": "stream",
       "stream": "stdout",
       "text": [
        "thanks for using our service.\r\n"
       ]
      }
     ],
     "prompt_number": 28
    },
    {
     "cell_type": "markdown",
     "metadata": {},
     "source": [
      "The way computer runs the above shell script program is the same as the interactive commands we use in the beginning. The shell (here it's the **interpreter**) first read one line from the script, next interpret it to understand your intent for the computer, then do it, and last it provides the feedback. The same process will continue until the end of the script. <cite data-cite=\"wiki:interpreted\"></cite>"
     ]
    },
    {
     "cell_type": "heading",
     "level": 1,
     "metadata": {},
     "source": [
      "Compiled language"
     ]
    },
    {
     "cell_type": "markdown",
     "metadata": {},
     "source": [
      "You might be a person who likes to plan your trip up-front. You are not satisfied with finding that your smart car doesn't understand your command 'turn left' only when your trip started. You want to make sure the car understands all your commands and knows the direction already before you start the journey."
     ]
    },
    {
     "cell_type": "markdown",
     "metadata": {},
     "source": [
      "Then you'd better **compile** all your instructions before you run the program by translating all the instructions to the basic commands smart cars can understand. It's just like using a **compiled language** <cite data-cite=\"wiki:compiled\"></cite>, like C:"
     ]
    },
    {
     "cell_type": "code",
     "collapsed": false,
     "input": [
      "%%writefile trip.c\n",
      "#include \"stdio.h\"\n",
      "int main() {\n",
      "    printf(\"start trip\\n\");\n",
      "    if( find(\"grocery_store\", F_OK ) != -1 ) {\n",
      "        printf(\"I saw it.\\n\");\n",
      "    } else {\n",
      "        printf(\"what?\\n\");\n",
      "    }\n",
      "    printf(\"thanks for using our service\\n\");\n",
      "}"
     ],
     "language": "python",
     "metadata": {},
     "outputs": [
      {
       "output_type": "stream",
       "stream": "stdout",
       "text": [
        "Overwriting trip.c\n"
       ]
      }
     ],
     "prompt_number": 53
    },
    {
     "cell_type": "markdown",
     "metadata": {},
     "source": [
      "The above C code is \"equivalent\" to the shell script code in the previous section. But you cannot use it directly. You need to compile it first. Let's compile it using the GCC compiler:"
     ]
    },
    {
     "cell_type": "code",
     "collapsed": false,
     "input": [
      "!gcc trip.c -o trip "
     ],
     "language": "python",
     "metadata": {},
     "outputs": [
      {
       "output_type": "stream",
       "stream": "stdout",
       "text": [
        "\u001b[1mtrip.c:4:9: \u001b[0m\u001b[0;1;35mwarning: \u001b[0m\u001b[1mimplicit declaration of function 'find' is invalid in C99 [-Wimplicit-function-declaration]\u001b[0m\r\n",
        "    if( find(\"grocery_store\", F_OK ) != -1 ) {\r\n",
        "\u001b[0;1;32m        ^\r\n",
        "\u001b[0m\u001b[1mtrip.c:4:31: \u001b[0m\u001b[0;1;31merror: \u001b[0m\u001b[1muse of undeclared identifier 'F_OK'\u001b[0m\r\n",
        "    if( find(\"grocery_store\", F_OK ) != -1 ) {\r\n",
        "\u001b[0;1;32m                              ^\r\n",
        "\u001b[0m1 warning and 1 error generated.\r\n"
       ]
      }
     ],
     "prompt_number": 54
    },
    {
     "cell_type": "markdown",
     "metadata": {},
     "source": [
      "As you can see, the compilation wasn't successful. The compiler told me that it doesn't understand my function `find` and it doesn't understand what `F_OK` means. The good news is, at least I don't have to be stuck in the middle of my journey, I know there's problem already."
     ]
    },
    {
     "cell_type": "markdown",
     "metadata": {},
     "source": [
      "Let's fix the C code by including the necessary header file and using the correct function name. Then try again:"
     ]
    },
    {
     "cell_type": "code",
     "collapsed": false,
     "input": [
      "%%writefile trip.c\n",
      "#include \"stdio.h\"\n",
      "#include \"unistd.h\"\n",
      "int main() {\n",
      "    printf(\"start trip\\n\");\n",
      "    if( access(\"grocery_store\", F_OK ) != -1 ) {\n",
      "        printf(\"I saw it.\\n\");\n",
      "    } else {\n",
      "        printf(\"what?\\n\");\n",
      "    }\n",
      "    printf(\"thanks for using our service\\n\");\n",
      "}"
     ],
     "language": "python",
     "metadata": {},
     "outputs": [
      {
       "output_type": "stream",
       "stream": "stdout",
       "text": [
        "Overwriting trip.c\n"
       ]
      }
     ],
     "prompt_number": 56
    },
    {
     "cell_type": "code",
     "collapsed": false,
     "input": [
      "!gcc trip.c -o trip"
     ],
     "language": "python",
     "metadata": {},
     "outputs": [],
     "prompt_number": 57
    },
    {
     "cell_type": "markdown",
     "metadata": {},
     "source": [
      "This time `gcc` didn't say anything. It's because `gcc` follows the good old Unix philosophy -- no new is good news, <cite data-cite=\"gancarz2003linux\"></cite>."
     ]
    },
    {
     "cell_type": "markdown",
     "metadata": {},
     "source": [
      "The above command compiled the C code into a binary file `trip`, which can be executed directly on the machine. If it's on a Microsoft Windows system, the name of the output binary file might be something like `trip.exe`. We can execute the executable binary file directly. Like:"
     ]
    },
    {
     "cell_type": "code",
     "collapsed": false,
     "input": [
      "!./trip"
     ],
     "language": "python",
     "metadata": {},
     "outputs": [
      {
       "output_type": "stream",
       "stream": "stdout",
       "text": [
        "start trip\r\n",
        "I saw it.\r\n",
        "thanks for using our service\r\n"
       ]
      }
     ],
     "prompt_number": 59
    },
    {
     "cell_type": "heading",
     "level": 1,
     "metadata": {},
     "source": [
      "The mix of compiled and interpreted langauges"
     ]
    },
    {
     "cell_type": "markdown",
     "metadata": {},
     "source": [
      "So, which way of making the trip to your friend's place do you like? Probably, you will do both. You might try your best to plan the direction before you start the journey, but you would also like to get ready to adjust for the situation you'll meet on the go."
     ]
    },
    {
     "cell_type": "markdown",
     "metadata": {},
     "source": [
      "Programming languages are the same. Nowadays, most languages have a little bit of both. **Java** is mostly considered a compiled language, but it compiles only to the bytecode that the JVM (Java Virtual Machine) could interpret. **Python** is considered an interpreted language. But it also compiles the source code to its own bytecode before execution. And interpreted programming languages like **JavaScript** has the technology called **Just-In-Time** <cite data-cite=\"[JIT, p.271]brookshear1997computer\"></cite> compilation. JIT translates the script into machine code at run-time. That's why JavaScript is so fast these days. On the other hand, the traditional low-level programming language like C are now using technology called LLVM, which is originally known as the Low Level Virtual Machine. So it might not always compiles to machine code, <cite data-cite=\"lattner2008llvm\"></cite>."
     ]
    },
    {
     "cell_type": "heading",
     "level": 1,
     "metadata": {},
     "source": [
      "Conclusion"
     ]
    },
    {
     "cell_type": "markdown",
     "metadata": {},
     "source": [
      "It has been a while that new languages are mostly interpreted language, like Python, Ruby, JavaScript. But the most recent noticeable new language are compiled languages again, like the Go language by Google and the Swift language by Apple. That means the two kinds might just co-exist. And we want to take advantage from both of them."
     ]
    },
    {
     "cell_type": "markdown",
     "metadata": {},
     "source": [
      "\\* I'm using OS X Yosemite. The GCC compiler I used is actually Clang."
     ]
    }
   ],
   "metadata": {}
  }
 ]
}