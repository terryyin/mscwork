{
 "metadata": {
  "name": "",
  "signature": "sha256:46787bcde16843a72c888400722f63f463b2cd7c97035bde693798214a650faa"
 },
 "nbformat": 3,
 "nbformat_minor": 0,
 "worksheets": [
  {
   "cells": [
    {
     "cell_type": "markdown",
     "metadata": {},
     "source": [
      "Every time I heard my daughter singing \"Mary had a little lamb\", I couldn't help but thinking \"Mary should have some vegetable as well.\"\n",
      "\n",
      "<img src=\"resources/mary.jpg\" width=\"30%\">"
     ]
    },
    {
     "cell_type": "markdown",
     "metadata": {},
     "source": [
      "The \"Mary had a little lamb\" story is borrowed from Weinberg's book  <cite data-cite=\"[p.54]gause1990your\"></cite>."
     ]
    },
    {
     "cell_type": "markdown",
     "metadata": {},
     "source": [
      "There are two essential questions in making a software system, **WHAT** we are making, and **HOW** to make it. The **system analysis** phase is mostly about WHAT, since that's the most urgent question. We call it **requirement analysis**. But sometimes it's also about **HOW**, since in some situation, the feasibility and alternatives of the solution are also urgent question. In that case, we might also need to do operational research like the **feasibility study**.\n",
      "\n",
      "If communication breakdowns during the system analysis, we will end up making the wrong software. So how can we avoid communication breakdown? Let's look at the reasons for communication breakdown respectively and see what we can do to improve it."
     ]
    },
    {
     "cell_type": "heading",
     "level": 1,
     "metadata": {},
     "source": [
      "Ambiguity"
     ]
    },
    {
     "cell_type": "markdown",
     "metadata": {},
     "source": [
      "As the \"Mary had a little lamb\" story told us, human language can be ambiguous. There are some approaches in modern software development to avoid it."
     ]
    },
    {
     "cell_type": "heading",
     "level": 2,
     "metadata": {},
     "source": [
      "Specification By Example"
     ]
    },
    {
     "cell_type": "markdown",
     "metadata": {},
     "source": [
      "As the \"Mary had a little lamb\" story told us, human language can be ambiguous.\n",
      "\n",
      "There's a simple but very powerful tool to avoid the ambiguity, that is the question \"can you give me an example?\"\n",
      "\n",
      "The examples we use to clarify the requirement shouldn't be the general example, but need to be very specific scenarios, for instance, \"given Craig is a VIP user, when he purchase the SbE book, he should have 50% discount.\" And if you feel one specific example is not general enough to cover the requirement, you can always add another specific example. And more."
     ]
    },
    {
     "cell_type": "markdown",
     "metadata": {},
     "source": [
      "<img src=\"resources/sbe.png\" width=\"40%\">\n",
      "\n",
      "Figure from _Bridging The Communication Gap_ <cite data-cite=\"[pdf version p.27]adzic2009bridging\"></cite>."
     ]
    },
    {
     "cell_type": "markdown",
     "metadata": {},
     "source": [
      "This is quite different than the traditional approach to analyzing the requirement. Traditional approach like use cases try to generalize the requirement and systematically cover the requirement. SbE doesn't aim to systematically cover the requirement but focus on value and priority of each scenario."
     ]
    },
    {
     "cell_type": "heading",
     "level": 2,
     "metadata": {},
     "source": [
      "System Metaphor"
     ]
    },
    {
     "cell_type": "markdown",
     "metadata": {},
     "source": [
      "Specification by Example is used to communicate the requirement. How shall we communicate the HOW part from the system analysis? One approach is called **system metaphor** <cite data-cite=\"beck2000extreme\"></cite>. A system metaphor is a story that even the client can understand to explain how the system works. It helps to unify the terms we use across the whole development team."
     ]
    },
    {
     "cell_type": "heading",
     "level": 1,
     "metadata": {},
     "source": [
      "Handoff"
     ]
    },
    {
     "cell_type": "markdown",
     "metadata": {},
     "source": [
      "Being a Chinese myself, it surprised me to know that Chinese Whisper is a communication game played around the world, especially in UK [colleagues, confirmation needed here]. We have the same game in China but we have a different name for it. (And no, it's not called British whisper.) It's a hilarious game showing us that a piece of message can be totally distorted after being retold several times.\n",
      "\n",
      "The traditional software development typically involves many moments of handoff. The business analyst passes the requirement to the architect. The architect passes the design decisions to the developer. The developer passes the software to tester. In each of these handoff, there will be information lost and mistakes."
     ]
    },
    {
     "cell_type": "heading",
     "level": 2,
     "metadata": {},
     "source": [
      "Feature Team"
     ]
    },
    {
     "cell_type": "markdown",
     "metadata": {},
     "source": [
      "One of the modern approaches to avoid handoff in software development is to build the **feature teams** <cite data-cite=\"deemer2012scrum\"></cite>. Feature team, in contrast to the traditional **single-disciplined team** or **component team**, is a small software development team includes all the necessary disciplines to deliver a software feature. One of the benefits of a feature team is to minimize the handoff."
     ]
    },
    {
     "cell_type": "heading",
     "level": 2,
     "metadata": {},
     "source": [
      "Stop Writing Start Talking"
     ]
    },
    {
     "cell_type": "markdown",
     "metadata": {},
     "source": [
      "The purpose of many documentation in traditional software development is to have the handoff. And that is usually not a good way of communication. Face-to-face communication is often more effective. **Specification workshop** is one of the collaborative ways to do system analysis <cite data-cite=\"[p.59]adzic2009bridging\"></cite>. Instead of the requirement owner \"push\" the requirement to the development team, in the workshop, development team \"pull\" the information from the requirement owner, by asking questions like \"can you give me an example ...\""
     ]
    },
    {
     "cell_type": "heading",
     "level": 1,
     "metadata": {},
     "source": [
      "Long Feedback Cycle"
     ]
    },
    {
     "cell_type": "markdown",
     "metadata": {},
     "source": [
      "If our understanding about the requirement is wrong, the long feedback cycle will make it worse. We need shorter PDCA cycles to continuously verify our analysis, <cite data-cite=\"wiki:pdca\"></cite>."
     ]
    },
    {
     "cell_type": "heading",
     "level": 2,
     "metadata": {},
     "source": [
      "Iterative development"
     ]
    },
    {
     "cell_type": "markdown",
     "metadata": {},
     "source": [
      "The traditional waterfall approach has been proved not working and the modern software development model is always iterative, <cite data-cite=\"larman2003iterative\"></cite>. Iterative development aims to get full feedback as early as possible. The full feedback should not be from any interim product, but the real working software."
     ]
    },
    {
     "cell_type": "heading",
     "level": 2,
     "metadata": {},
     "source": [
      "Acceptance-Test Driven Development"
     ]
    },
    {
     "cell_type": "markdown",
     "metadata": {},
     "source": [
      "An even more detailed approach for system analysis is called Acceptance-Test Driven Development <cite data-cite=\"[ATDD, p.42~59]larman2010practices\"></cite>. This is highly related to Specification by Example as mentioned earlier. The requirement is explored in a collaborative way in a workshop. During the iteration, the acceptance test and the software are developed in concurrence. At the end of the iteration, the acceptance test can be used to confirm the requirement has been fulfilled.\n",
      "\n",
      "<img src=\"resources/atdd.png\" width=\"40%\">"
     ]
    },
    {
     "cell_type": "heading",
     "level": 1,
     "metadata": {},
     "source": [
      "Conclusion"
     ]
    },
    {
     "cell_type": "markdown",
     "metadata": {},
     "source": [
      "Communication can breakdown. The breakdown of communication during system analysis is very costly. We need to avoid the ambiguity, handoff and long feedback cycle.\n",
      "\n",
      "This paper is mainly based on the work of Craig Larman, Bas Vodde and Gojko Adzic. If you are interested in this topic, I would like to recommend the 4 books in the references written by them."
     ]
    }
   ],
   "metadata": {}
  }
 ]
}