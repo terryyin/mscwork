{
 "metadata": {
  "name": "",
  "signature": "sha256:e109964e311cd3aafde57c3e8e6fbf354c94281ce855e13101f122f8d1e916d2"
 },
 "nbformat": 3,
 "nbformat_minor": 0,
 "worksheets": [
  {
   "cells": [
    {
     "cell_type": "markdown",
     "metadata": {},
     "source": [
      ">\"The global programming community is fashion-driven to a degree that would embarrass haute couture designers from New York to Paris.\"\n",
      ">\n",
      "> <cite data-cite=\"[forwarding]Fogus:2011:JCT:2018918\"></cite> \n",
      "\n",
      "Web programming is a fast changing area, nobody in this industry can afford totally missing the cutting-edge techniques. This doesn\u2019t mean we all have to use the most cutting-edge techniques in all our products. This is not the fashion industry. But we need to learn the new ideas and take advantage of the new techniques. In today\u2019s Internet industry, this is a matter of survival.\n",
      "\n",
      "The definition of cutting-edge technology is it\u2019s lack of consensus and not fully tested <cite data-cite=\"wiki:cutting-edge\"></cite>. That definition already suggests that cutting-edge is something that should be avoided in serious products. So the remaining question is only in what way we can participate the cutting-edge techniques and where we should apply them.\n",
      "\n",
      "A cutting-edge technique is being there for a certain reason. It solves some certain problems, with a certain cost, within a certain scope and brings certain opportunities. It doesn\u2019t make sense to deny or adopt any technique without fully aware of all these certain things in any serious product. We should not forget that cutting-edge technique has already got one inherited cost, lack of maturity.\n",
      "\n",
      "W3C (The World Wide Web Consortium) has the Rule Of Least Power <cite data-cite=\"berners2006rule\"></cite>, which \"suggests choosing the least powerful language suitable for a given purpose\u201d. Because the less powerful the language is, the more one can do with the data stored in that language. For example, data stored in JavaScript is more likely to be understood by anybody in the future than the data stored in a Java Applet, because JavaScript is less powerful. Another example is content that is stored in HTML format is still comprehensible with simple text editor (without losing any information), while a PDF can only be opened by a PDF reader.\n",
      "\n",
      "In general, I\u2019m comfortable  adopting any technology that follows the Rule Of Least Power. For example, the markdown language is in plain text format which is supposed to be readable in its original format without any extra rendering. And it\u2019s often translated to HTML beore it's actually used. That means you can always decide to use HTML directly and get rid of the markdown language when you don\u2019t want it. Another example is RESTful API that exchange information between client and server with data in JSON format. The underlying technology is the least powerful and well-established (JSON over HTTP), therefore it brings less risk and less dependency.\n",
      "\n",
      "I would be more careful with technology that depends on more powerful feature or standards. I would also be careful with technology that makes me depend it too much.\n",
      "\n",
      "When we cannot apply the cutting-edge techniques that is related to us because of it\u2019s not mature enough to fulfil our need, I think we can still participate in some other ways. These would include experimenting in side projects, contribute in open source and actively follow the trends and joining the discussion. \n"
     ]
    }
   ],
   "metadata": {}
  }
 ]
}