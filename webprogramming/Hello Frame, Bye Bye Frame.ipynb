{
 "metadata": {
  "name": "",
  "signature": "sha256:d781beb3cf7f75bcec290afaa85e609a3becdaba00211903108d190dedaa5a62"
 },
 "nbformat": 3,
 "nbformat_minor": 0,
 "worksheets": [
  {
   "cells": [
    {
     "cell_type": "markdown",
     "metadata": {},
     "source": [
      "The `<frame>` tag in the early version of HTML was an attempt to separate the concerns on the web page <cite data-cite=\"html-frame\"></cite>. It divides a single web page window into several areas (which is collectively under a `<frameset>` tag). Each of of these areas, or frames, only provide part of the information, e.g. the navigation menu, the sidebar and the main content. Put it in another word, the `<frame>` tag was a try of decoupling. "
     ]
    },
    {
     "cell_type": "markdown",
     "metadata": {},
     "source": [
      "<img src=\"resources/frames.png\" width=\"30%\" alt=\"How frameset and frame split a page\">"
     ]
    },
    {
     "cell_type": "markdown",
     "metadata": {},
     "source": [
      "If we look at the evolution of the web technology, it\u2019s almost aways about how to separate the concerns. One classic example is the separation of HTML, CSS and JavaScript <cite data-cite=\"[page.6]webhowto\"></cite>. HTML, CSS and JavaScript are three complementary languages running in a browser. HTML is for the content, CSS is for the presentation and JavaScript is for the interaction. "
     ]
    },
    {
     "cell_type": "markdown",
     "metadata": {},
     "source": [
      "A good design does not only need lower coupling, but also high cohesion, which means that things belong together should stay together. The `<frame>` tag, quite often, couldn't decouple the web page properly and that led to many problems <cite data-cite=\"nielsen1996alertbox\"></cite>:"
     ]
    },
    {
     "cell_type": "markdown",
     "metadata": {},
     "source": [
      "* You cannot correctly bookmark a page with frames. Because each frame is an individual browser window, a user could just navigate to other pages within a frame. The parent page has no knowledge or control about each frame's state or current url. So when you bookmark a page at a certain state, it\u2019s hard to guarantee that you can go back to that state via the bookmark or link.\n",
      "* It makes printing very hard. As shown by Figure 1, it might look nice in a browser, but it's very hard to fit the same layout on a different type of media, e.g. a printing paper."
     ]
    },
    {
     "cell_type": "markdown",
     "metadata": {},
     "source": [
      "Which might not be known by the author of <cite data-cite=\"nielsen1996alertbox\"></cite> in the year of 1996 is that frame also introduced security risk. The Cross Frame Scripting is a type of security attack that is utilizing the frames in a web page <cite data-cite=\"[p.262]grossman2007xss\"></cite>. If an attacker could get control of any of the frames in the page, it is possible to access information in the top and sibling frames that belong's to a site that requires authentication."
     ]
    },
    {
     "cell_type": "markdown",
     "metadata": {},
     "source": [
      "Because of these drawbacks, `<frame>` and `<frameset>` has been obsoleted in HTML 5. Another tag `<iframe>`, which is similar to `<frame>` has been kept in HTML5 <cite data-cite=\"html-iframe\"></cite>. `<iframe>` also embeds another page within the current page, but it\u2019s also essentially different from `<frame>`. `<iframe>` takes a box in the parent page instead of taking a slice. And `<iframe>` is holding content in a sandbox environment and that reduces the security risk."
     ]
    },
    {
     "cell_type": "markdown",
     "metadata": {},
     "source": [
      "In today\u2019s Web application design, the decoupling of the parts in a web page layout is often handled on the server side, e.g. a template with many \u201cpartials\u201d. And from the clients, or the browser\u2019s view, it\u2019s a single, cohesive page.\n",
      "\n",
      "I don\u2019t miss the tag `<frame>` at all. But I think the emerging and obsolete of `<frame>` is a good example of design evolution.  "
     ]
    }
   ],
   "metadata": {}
  }
 ]
}