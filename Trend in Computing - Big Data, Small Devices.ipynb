{
 "metadata": {
  "celltoolbar": "Slideshow",
  "name": "",
  "signature": "sha256:de9926da5aa73313ae00906a67c9f0de14ee91dd26470be819ac4e53db573140"
 },
 "nbformat": 3,
 "nbformat_minor": 0,
 "worksheets": [
  {
   "cells": [
    {
     "cell_type": "markdown",
     "metadata": {},
     "source": [
      "In year 1997, The IBM supercomputer Deep Blue beat the World Chess Champion Garry Kasparov in a human\u2013computer chess match, <cite data-cite=\"wiki:deepblue\"></cite>. After that, supercomputers have been consistently outperforming the human top chess players. In year 2009, a software program named Pocket Fritz 4 running on a mobile phone reached the grandmaster level and achieved the same performance as IBM Deep Blue, <cite data-cite=\"wiki:chessphone\"></cite>."
     ]
    },
    {
     "cell_type": "markdown",
     "metadata": {},
     "source": [
      "<img src=\"resources/chess.png\" alt=\"The 3 factors of computer chess performance }\\label{fig:chess\" align=\"left\" width=\"25%\" lineheight=13></img> There are 3 important factors that decide the performance of a computer chess player, computing speed, algorithm and data, as shown in Figure <ref>fig:chess</ref>."
     ]
    },
    {
     "cell_type": "markdown",
     "metadata": {},
     "source": [
      "Does the successful story of Pocket Fritz 4 mean that the computing power of a normal mobile phone in 2009 is already at the same level as the IBM supercomputer Deep Blue in 1997? No. the phone that run Pocket Fritz 4 is 10,000 times slower than Deep Blue. It only searches fewer than 20,000 positions per second."
     ]
    },
    {
     "cell_type": "markdown",
     "metadata": {},
     "source": [
      "Then is it because now we have much better algorithm for the same chess problem? The algorithm has been improving all the time. Chess playing has got fairly large amount of attention from people studying computer science as stated by _Is chess the drosophila of artificial intelligence? A social history of an algorithm_ <cite data-cite=\"ensmenger2011chess\"></cite>. From the same paper, we can see that the algorithm hasn't changed much until 2011. Some 20 years ago, I learnt the Minimax algorithm for the first time when I was in high school. Today, the essence of the algorithm is still the same. Still, people wouldn't stop finding better searching techniques and stronger killer heuristic. But this alone would not have led us this far."
     ]
    },
    {
     "cell_type": "markdown",
     "metadata": {},
     "source": [
      "So what do data do here in solving logically complicated computing problem?"
     ]
    },
    {
     "cell_type": "markdown",
     "metadata": {},
     "source": [
      "Say, we need to check whether a number is a prime number. A slow but complete solution could be something like:"
     ]
    },
    {
     "cell_type": "code",
     "collapsed": false,
     "input": [
      "def isprime(n):\n",
      "    for i in range(2, n):\n",
      "        if n % i == 0:\n",
      "            return False\n",
      "    return n != 1"
     ],
     "language": "python",
     "metadata": {},
     "outputs": [],
     "prompt_number": 5
    },
    {
     "cell_type": "markdown",
     "metadata": {},
     "source": [
      "But what about the following solution?"
     ]
    },
    {
     "cell_type": "code",
     "collapsed": false,
     "input": [
      "def isprime(n):\n",
      "    return n in {2, 3, 5, 7, 11, 13, 17, 23, 29, 31, 37,\n",
      "                 41, 43, 47, 53, 59,61, 67,71, 73, 79, 83, 89, 97}"
     ],
     "language": "python",
     "metadata": {},
     "outputs": [],
     "prompt_number": 6
    },
    {
     "cell_type": "markdown",
     "metadata": {},
     "source": [
      "Some will call the second one cheating if it's a test in an Algorithms class. But the two solutions are effectively the same if the teacher only verify the result with (`n < 101`). And the second solution is a lot faster. This simple example shows that data and algorithms are tradable to some degree. We don't have always to model the logic in the real world but \"letting the data speak for themselves\" <cite data-cite=\"gould1981letting\"></cite>. And often new opportunities emerge when big data is involved. One example is from the speech recognition domain, as stated in Google's report <cite data-cite=\"40491\"></cite>."
     ]
    },
    {
     "cell_type": "markdown",
     "metadata": {},
     "source": [
      "Coming back to the story of computer chess. The secret ingredient is also data. Modern computer chess programs all use large opening books and endgame books. Now small devices can also have large storage, and they can also utilize the data in the \"cloud\". According to <cite data-cite=\"levy1991computers\"></cite>, computer gains about 50~70 Elo points by doubling the speed. Elo point is a measurement for playing strength in chess. \n",
      "In 2012, there were 5839 human players at the \"Candidate Master\" (2200 to 2299 Elo points) level in the world <cite data-cite=\"wiki:elo\"></cite>. There were 3 human at the top having 2800 points. So for a Candidate Master level computer chess program, it has to be 7 to 12 times faster to become the top level master. The famous Moore's law <cite data-cite=\"wiki:moore\"></cite> stated \"computer speed doubles every 18 months.\" Then we will have to wait 18 years to see it beats all the human masters! We can't wait that long. Big data comes to the rescue!"
     ]
    },
    {
     "cell_type": "markdown",
     "metadata": {},
     "source": [
      "**Conclusion**"
     ]
    },
    {
     "cell_type": "markdown",
     "metadata": {},
     "source": [
      "Just like human brain is not just a logic machine, we actually solve problems quite often by pattern matching, big data is another important dimension in solving problems in computer science. The big question left here is \"how\". My prediction is the exploration of how to better exploit the big data will continue to be a trend in computing. "
     ]
    }
   ],
   "metadata": {}
  }
 ]
}