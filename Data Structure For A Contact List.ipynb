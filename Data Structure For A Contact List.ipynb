{
 "metadata": {
  "name": "",
  "signature": "sha256:bbd57c8c7a7fa10b0238875f5dcba55b64ebd3748ee7aaf332716d0b4c02d3b5"
 },
 "nbformat": 3,
 "nbformat_minor": 0,
 "worksheets": [
  {
   "cells": [
    {
     "cell_type": "markdown",
     "metadata": {},
     "source": [
      "Post: Create an initial post in which you compare multiple data structures. Address the following:\n",
      "\n",
      "* Analyse the merits and weaknesses of common types of data structures and identify which data structure is best suited for a phone contact list.\n",
      "* Using your analysis, explain why your identified data structure is most suited for a phone contact list.\n",
      "* Fully state and justify any choices, assumptions or claims that you make using the suggested Learning Resources for this Week and/or your own research."
     ]
    },
    {
     "cell_type": "markdown",
     "metadata": {},
     "source": [
      "User scenarios of a phone contact list:\n",
      "\n",
      "* User adds a new contact\n",
      "* User updates a contact information\n",
      "* User browses the contacts\n",
      "* User search contacts with name or initials\n",
      "* Incoming call with contact name\n",
      "* Contacts should have many predefined fields, like name, phone, email"
     ]
    },
    {
     "cell_type": "markdown",
     "metadata": {},
     "source": [
      "Some not very common scenarios:\n",
      "\n",
      "* User adds a duplicated contact\n",
      "    * Given a contact already exist in the contact list\n",
      "    * When user add a contact with the same name\n",
      "    * Then new contact should be added sucessfully\n",
      "    * And both contacts exist in the contact list\n",
      "* Deleting contact should not delete other contacts with the same name\n",
      "* It should have self-defined fields per contact\n",
      "* User add a contact to a group"
     ]
    },
    {
     "cell_type": "markdown",
     "metadata": {},
     "source": [
      "There are two parts for an abstract datatype, the external behaviour and the internal structure. What matters is very often the external behaviour. But the internal structure will decide how complex it is to implement the external behaviour. And it's usually crucial for deciding the performance."
     ]
    },
    {
     "cell_type": "heading",
     "level": 1,
     "metadata": {},
     "source": [
      "External Behaviour"
     ]
    },
    {
     "cell_type": "markdown",
     "metadata": {},
     "source": [
      "The contact list is considered a **collection** in the classic data structures. Typically, the operations on a collection are CRUD (creation, request, update, deletion). But there are some differences."
     ]
    },
    {
     "cell_type": "markdown",
     "metadata": {},
     "source": [
      "Creation: It means to add a new item in the collection. The concerns are:\n",
      "\n",
      "* Is duplication allowed or not?\n",
      "* Where to insert the item?\n",
      "* Is it creating, copying or reference?"
     ]
    },
    {
     "cell_type": "markdown",
     "metadata": {},
     "source": [
      "Request: it means to access the item in the collection. The concerns are:\n",
      "\n",
      "* Sequencial access or random access\n",
      "* Location by index, key, or many different way.\n",
      "* Scope."
     ]
    },
    {
     "cell_type": "markdown",
     "metadata": {},
     "source": [
      "Update: It means to update the contain of an item. The concerns are:\n",
      "\n",
      "* Consistency\n",
      "* Atomic"
     ]
    },
    {
     "cell_type": "markdown",
     "metadata": {},
     "source": [
      "Deletion: It means to delete an item from the collection. The concerns are:\n",
      "\n",
      "* How to define the scope of deletion."
     ]
    },
    {
     "cell_type": "heading",
     "level": 2,
     "metadata": {},
     "source": [
      "Conclusion about the contact list"
     ]
    },
    {
     "cell_type": "markdown",
     "metadata": {},
     "source": [
      "it's external behavior."
     ]
    },
    {
     "cell_type": "heading",
     "level": 1,
     "metadata": {},
     "source": [
      "Internal Structure"
     ]
    },
    {
     "cell_type": "markdown",
     "metadata": {},
     "source": [
      "It's not an dict. It's a list with external index."
     ]
    },
    {
     "cell_type": "heading",
     "level": 1,
     "metadata": {},
     "source": [
      "Conclusion"
     ]
    },
    {
     "cell_type": "markdown",
     "metadata": {},
     "source": [
      "So, after this long discussion, what is our decision for the data stucture of the contact list? My answer is **I don't know**.\n",
      "\n",
      "These are all my speculation. I don't know what is a proper data structure for a phone contact list. I will know it only after I implement a phone contact list for a specific need. I would like to try out my speculation in the implementation, but I'm ready to prove myself to be wrong."
     ]
    }
   ],
   "metadata": {}
  }
 ]
}