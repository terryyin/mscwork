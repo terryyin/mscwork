{
 "metadata": {
  "name": "",
  "signature": "sha256:a38c0bf1687e5270901521aa9b2f99e3c80f202656e1a32fb23727b9534d8454"
 },
 "nbformat": 3,
 "nbformat_minor": 0,
 "worksheets": [
  {
   "cells": [
    {
     "cell_type": "markdown",
     "metadata": {},
     "source": [
      "A phone contact list is a collection of contacts. The common collection data types are, <cite data-cite=\"[p.342]brookshear1997computer\"></cite>:\n",
      "\n",
      "* **List** represents a linear collection. Items can be accessed in sequence or by index.\n",
      "* **Set** represents a collection of unique items. There cannot be duplicated items, and there's no order in the collection.\n",
      "* **Map** or dictionary/hash, represents a key-value collection, where items can be accessed by a unique key.\n",
      "* **Tree** is a collection that preserve the relationship among the items in a tree structure. A tree makes it easy to access a subgroup of items. A tree also builds short paths to access any item in the tree.  \n",
      "\n",
      "These are the very general collection types. And when we talk about data structures, there are at least two different concerns. One concern is the abstract behaviour. The other concern is the underlying implementation details. In this paper, we mostly talk only about the abstract behaviour of the data type. This paper will use the phone contact list as an example to show the thinking process of selecting a proper data structure based on different requirement."
     ]
    },
    {
     "cell_type": "heading",
     "level": 1,
     "metadata": {},
     "source": [
      "Data Type for A Contact"
     ]
    },
    {
     "cell_type": "markdown",
     "metadata": {},
     "source": [
      "We need to define a basic datatype for the contact list. It's a **user-defined data type** <cite data-cite=\"[p.368]brookshear1997computer\"></cite>. We call it `Contact`. The requirement for the contact is:\n",
      "\n",
      "> * Contacts should have some predefined fields, including first name, last name and phone number.\n",
      "> * It should have self-defined fields per contact\n",
      "\n",
      "We will ignore the self-defined fields to keep things simple because our focus in the paper is on the collection. To define the `Contact` type in Python:"
     ]
    },
    {
     "cell_type": "code",
     "collapsed": false,
     "input": [
      "class Contact:\n",
      "    def __init__(self, first_name, last_name, phone_number):\n",
      "        self.first_name = first_name\n",
      "        self.last_name = last_name\n",
      "        self.phone_number = phone_number\n",
      "    \n",
      "    # we define the __repr__ function to display the content of the contact\n",
      "    def __repr__(self):\n",
      "        return \"<contact> %s %s: %s\" % (self.first_name, self.last_name, self.phone_number)"
     ],
     "language": "python",
     "metadata": {},
     "outputs": [],
     "prompt_number": 1
    },
    {
     "cell_type": "heading",
     "level": 1,
     "metadata": {},
     "source": [
      "Basic User Scenarios: Linear Access"
     ]
    },
    {
     "cell_type": "markdown",
     "metadata": {},
     "source": [
      "Basically, a phone contact list need to:\n",
      "\n",
      "> * User adds a new contact\n",
      "> * User updates a contact information\n",
      "> * User browses the contacts in alphabetic order"
     ]
    },
    {
     "cell_type": "markdown",
     "metadata": {},
     "source": [
      "A basic list would be enough to fulfill the basic user scenarios because it's simple."
     ]
    },
    {
     "cell_type": "code",
     "collapsed": false,
     "input": [
      "contact_list = list()\n",
      "contact_list.append(Contact(\"Terry\", \"Yin\", \"119\"))\n",
      "contact_list.append(Contact(\"Teddy\", \"Bear\", \"000\"))\n",
      "contact_list.append(Contact(\"Jeff\", \"Dean\", \"911\"))\n",
      "print(contact_list)"
     ],
     "language": "python",
     "metadata": {},
     "outputs": [
      {
       "output_type": "stream",
       "stream": "stdout",
       "text": [
        "[<contact> Terry Yin: 119, <contact> Teddy Bear: 000, <contact> Jeff Dean: 911]\n"
       ]
      }
     ],
     "prompt_number": 2
    },
    {
     "cell_type": "markdown",
     "metadata": {},
     "source": [
      "Because we inserted \"Terry\" first and then \"Jeff\", the list is not sorted in alphabetic order. To browse the contacts in alphabetic order, we have two choices:\n",
      "\n",
      "1. Insert the new contact in the right place when adding a contact.\n",
      "2. Sort the list before browsing.\n",
      "\n",
      "As browsing is a much more frequent operation than adding, we may choose option 1 to make the browsing faster and easier."
     ]
    },
    {
     "cell_type": "heading",
     "level": 1,
     "metadata": {},
     "source": [
      "More User Scenarios: Access With Keys"
     ]
    },
    {
     "cell_type": "markdown",
     "metadata": {},
     "source": [
      "A typical phone contact list will also do:\n",
      "\n",
      "> * User searches by name\n",
      "> * User deletes a contact by selecting the name\n",
      "\n",
      "These behaviours can be implemented with a list as well. But maybe not efficient enough. It looks like a map is an easier solution. A map in Python is called a `dict`, <cite data-cite=\"wiki:dict\"></cite>."
     ]
    },
    {
     "cell_type": "code",
     "collapsed": false,
     "input": [
      "contact_dict = dict()\n",
      "contact_dict[\"Terry\"] = Contact(\"Terry\", \"Yin\", \"119\")\n",
      "contact_dict[\"Teddy\"] = Contact(\"Teddy\", \"Bear\", \"000\")\n",
      "contact_dict[\"Jeff\"] = Contact(\"Jeff\", \"Dean\", \"911\")\n",
      "print(contact_dict)\n",
      "print(contact_dict[\"Terry\"])"
     ],
     "language": "python",
     "metadata": {},
     "outputs": [
      {
       "output_type": "stream",
       "stream": "stdout",
       "text": [
        "{'Teddy': <contact> Teddy Bear: 000, 'Jeff': <contact> Jeff Dean: 911, 'Terry': <contact> Terry Yin: 119}\n",
        "<contact> Terry Yin: 119\n"
       ]
      }
     ],
     "prompt_number": 3
    },
    {
     "cell_type": "markdown",
     "metadata": {},
     "source": [
      "One of the drawbacks of using a map (with the current requirement) is that a map doesn't keep the order information. So in order to browse the contact list in alphabetic order, we need to sort all the keys of the map first."
     ]
    },
    {
     "cell_type": "heading",
     "level": 1,
     "metadata": {},
     "source": [
      "More User Scenarios: Duplicated Entries & Search With Prefix"
     ]
    },
    {
     "cell_type": "markdown",
     "metadata": {},
     "source": [
      "The contact list on the phone I'm using right now (Samsung S4) can also do:\n",
      "\n",
      "> * User adds a duplicated contact\n",
      "    * Given a contact already exists in the contact list\n",
      "    * When user adds a contact with the same name\n",
      "    * Then both contacts should exist in the contact list\n",
      "> * Deleting a contact should not delete other contacts with the same name\n",
      "> * As the user is typing the name, the phone should list the contacts with the given prefix already typed dynamically. "
     ]
    },
    {
     "cell_type": "markdown",
     "metadata": {},
     "source": [
      "Now a map or dict doesn't fit the need anymore, because there will be duplicated keys. A map cannot directly have duplicated keys. Considering user also need to look up in the contact list by prefix of a name, a good choice could be a **Trie** <cite data-cite=\"wiki:trie\"></cite>. A trie is a special type of tree. It forms a tree structure based on the prefix of the keys. It has similar time complexity as a map, but it also provides a subset of all the prefixes, and it's also ordered. A trie is also easier to be modified to allow duplicated keys.\n",
      "\n",
      "<img src=\"resources/trie.png\" width=\"40%\">\n",
      "\n",
      "Most programming languages doesn't support trie data structure directly. We need to implement the trie by ourselves. The trie will be like:"
     ]
    },
    {
     "cell_type": "code",
     "collapsed": false,
     "input": [
      "from collections import defaultdict\n",
      "\n",
      "class Contacts_Trie:\n",
      "    \n",
      "    def __init__(self):\n",
      "        # contacts on this node\n",
      "        self.contacts = list()\n",
      "        # the sub notes of this nodes, it's a dict of other Contacts_Trie\n",
      "        self.sub_notes = defaultdict(Contacts_Trie)\n",
      "    \n",
      "    def add(self, suffix, contact):\n",
      "        if suffix == \"\":\n",
      "            self.contacts.append(contact)\n",
      "        else:\n",
      "            self.sub_notes[suffix[0]].add(suffix[1:], contact)\n",
      "\n",
      "    def contacts_with_prefix(self, prefix):\n",
      "        if prefix == \"\":\n",
      "            return self._get_all_contacts()\n",
      "        else:\n",
      "            return self.sub_notes[prefix[0]].contacts_with_prefix(prefix[1:])\n",
      "        \n",
      "    def _get_all_contacts(self):\n",
      "        result = self.contacts\n",
      "        for key in sorted(self.sub_notes.keys()):\n",
      "            result += self.sub_notes[key]._get_all_contacts()\n",
      "        return result\n"
     ],
     "language": "python",
     "metadata": {},
     "outputs": [],
     "prompt_number": 4
    },
    {
     "cell_type": "markdown",
     "metadata": {},
     "source": [
      "Below is an example and test for using the trie. As you can see, we can get all the contacts who's name have prefix \"Te\", and duplicate names are allowed."
     ]
    },
    {
     "cell_type": "code",
     "collapsed": false,
     "input": [
      "contacts = Contacts_Trie()\n",
      "contacts.add(\"Terry\", Contact(\"Terry\", \"Yin\", \"119\"))\n",
      "contacts.add(\"Teddy\", Contact(\"Teddy\", \"Bear\", \"000\"))\n",
      "contacts.add(\"Terry\", Contact(\"Terry\", \"Again\", \"111\"))\n",
      "contacts.add(\"Jeff\", Contact(\"Jeff\", \"Dea\", \"911\"))\n",
      "print contacts.contacts_with_prefix(\"Te\")"
     ],
     "language": "python",
     "metadata": {},
     "outputs": [
      {
       "output_type": "stream",
       "stream": "stdout",
       "text": [
        "[<contact> Teddy Bear: 000, <contact> Terry Yin: 119, <contact> Terry Again: 111]\n"
       ]
      }
     ],
     "prompt_number": 5
    },
    {
     "cell_type": "markdown",
     "metadata": {},
     "source": [
      "As now duplicated names are allowed, we cannot use name to identity contact entry anymore. So a new field `id` need to be introduced to the `Contact` type. `id` is a unique number to identify a contact."
     ]
    },
    {
     "cell_type": "heading",
     "level": 1,
     "metadata": {},
     "source": [
      "Even More User Scenarios: Mulitiple Indexes"
     ]
    },
    {
     "cell_type": "markdown",
     "metadata": {},
     "source": [
      "The contact list on my phone can also do:\n",
      "\n",
      "* Incoming call shows the contact name (by matching the phone number)\n",
      "* User searches with phone number\n",
      "* User searches with inital"
     ]
    },
    {
     "cell_type": "markdown",
     "metadata": {},
     "source": [
      "Now there are more than one way to search in the contact list. Our solution with the trie to store the contacts is not enough. One possible solution is to have **multiple index trees**. Each node in the index tree has a reference to the contact item, which probably is stored in a list.\n",
      "\n",
      "<img src=\"resources/mulitiindex.png\" width=\"30%\">\n",
      "\n",
      "One of the drawbacks of this solution is adding and deleting an item from the contact list will need to update many index trees. By doing so, we sacrifice the performance for adding and deleting to improve the performance for looking up."
     ]
    },
    {
     "cell_type": "heading",
     "level": 1,
     "metadata": {},
     "source": [
      "Conclusion"
     ]
    },
    {
     "cell_type": "markdown",
     "metadata": {},
     "source": [
      "This is a great mental exercise for studying data structure. But, after this long discussion, what is the best choice for the data structure of the contact list? My answer is **I don't know**. And I'm pretty sure **my current design is wrong**.\n",
      "\n",
      "Why do I know I'm wrong? It's **because I've always been wrong**. Experiences tell me, I've never created the right design just by one try for any non-trivial software.\n",
      "\n",
      "However, I have tried my best to speculate about the design of this contact list. I will only know where is wrong in my design when and after I implement my speculative ideas. And when there's requirement change, my design will be wrong again."
     ]
    }
   ],
   "metadata": {}
  }
 ]
}