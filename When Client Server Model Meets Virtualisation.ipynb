{
 "metadata": {
  "name": "",
  "signature": "sha256:fe26ee31166bd6fff70e81781dc370c0f6cf91e0146c0132e04fc8bd2db9e4e9"
 },
 "nbformat": 3,
 "nbformat_minor": 0,
 "worksheets": [
  {
   "cells": [
    {
     "cell_type": "raw",
     "metadata": {},
     "source": [
      "\\begin{abstract}"
     ]
    },
    {
     "cell_type": "markdown",
     "metadata": {},
     "source": [
      "The client/server model and virtualisation are two perpendicular concepts in computer architecture. Both are used to separate the concerns in the system. This paper will discuss the similarity and differences between the two concepts, and will explore some real life examples of the combination of both design choices. It will also discuss the opportunity brought by virtualization to the startup business and telecommunication."
     ]
    },
    {
     "cell_type": "raw",
     "metadata": {},
     "source": [
      "\\end{abstract}"
     ]
    },
    {
     "cell_type": "heading",
     "level": 1,
     "metadata": {},
     "source": [
      "Comparing Client Server Model and Virtualisation"
     ]
    },
    {
     "cell_type": "heading",
     "level": 2,
     "metadata": {},
     "source": [
      "Similarity"
     ]
    },
    {
     "cell_type": "markdown",
     "metadata": {},
     "source": [
      "Both the client/server model and virtualization are aimed to separate the concerns of the overall system, also called the **separation of concerns** <cite data-cite=\"[SoC]dijkstra1982role\"></cite>. And \"abstraction through **information hiding** is a primary factor in computer science progress and success,\" <cite data-cite=\"colburn2007abstraction\"></cite>. The abstraction sometimes leads to a modular structure like the client/server model, sometimes lead to a layered model like virtualisation."
     ]
    },
    {
     "cell_type": "heading",
     "level": 2,
     "metadata": {},
     "source": [
      "Horizontal vs. Vertical separation in the system stack"
     ]
    },
    {
     "cell_type": "markdown",
     "metadata": {},
     "source": [
      "The client/server and virtualisation architecture are two perpendicular concepts. They represent different ways of separation of concerns in the system design. The information hiding can be done horizontally or vertically <cite data-cite=\"[p.71-75]white2014art\"></cite>."
     ]
    },
    {
     "cell_type": "markdown",
     "metadata": {},
     "source": [
      "<img src=\"resources/csv.png\" width=\"50%\" alt=\"Example of Client/Server Model and Virtualization In Computer Architecture\">"
     ]
    },
    {
     "cell_type": "heading",
     "level": 2,
     "metadata": {},
     "source": [
      "Client/Server model is horizontal information hiding"
     ]
    },
    {
     "cell_type": "markdown",
     "metadata": {},
     "source": [
      "A client/server model is an achitectural design decision on how to assign the _responsibilities_ and how to _communicate_ with each other in a distributed system. The result is a modularized structure with a centralized server and the distributed clients. From a system stack diagram, it looks horizontal.\n",
      "\n",
      "An alternative archiyectural design on the same horizontal level is the peer-to-peer structure. Unlike client/server model, peer-to-peer structure is decentralized, and the responsibilities are distributed more equally among the peers. The design choices between client/server and peer-to-peer should be based on the requirement of the system.\n",
      "\n",
      "One typical client/server architecture is the World Wide Web system. In the WWW system, a client browser is responsible for presenting the content, and the server is responsible for providing the content, and the communication is via HTTP protocol."
     ]
    },
    {
     "cell_type": "heading",
     "level": 2,
     "metadata": {},
     "source": [
      "Virtualization is vertical information hiding"
     ]
    },
    {
     "cell_type": "markdown",
     "metadata": {},
     "source": [
      "> \"Abstractions should not depend upon details. Details should depend upon abstractions.\"\n",
      ">\n",
      "> <cite data-cite=\"martin1996dependency\"></cite>"
     ]
    },
    {
     "cell_type": "markdown",
     "metadata": {},
     "source": [
      "Virtualization is to virtualize a dependency in the computer architecture. The motivation of virtualization is to have _Protected Variations_ <cite data-cite=\"[GRASP]larman2012applying\"></cite>. From a system stack diagram, it looks vertical.\n",
      "\n",
      "Information hiding is to protect a detailed implementation from it's changing dependencies. One example is software written in the Java programming language. We expect it to be written once and can be run on many different platforms. And that goal is approximately achieved by a JVM <cite data-cite=\"[Java virtual machine]wiki:jvm\"></cite>."
     ]
    },
    {
     "cell_type": "markdown",
     "metadata": {},
     "source": [
      "Virtualization may happen in any layer in the stack, hardware, operating system, network, etc <cite data-cite=\"smith2005introduction\"></cite>."
     ]
    },
    {
     "cell_type": "markdown",
     "metadata": {},
     "source": [
      "Despite the wonderful idea it sounds, there are still many concerns, like \"Virtualization holds promise\n",
      "as a solution for many challenging problems. Expectations\n",
      "are running high. Can virtualization deliver?\" <cite data-cite=\"5667628320110101\"></cite>. The expectations here include interoperability, scalability, fast delivery, easy troubleshooting, no silo, etc.\n",
      "\n",
      "With some emerging solutions, like Docker<cite data-cite=\"wiki:docker\"></cite> and the cloud solutions, it looks more and more promising than ever in some areas."
     ]
    },
    {
     "cell_type": "heading",
     "level": 1,
     "metadata": {},
     "source": [
      "Case studies"
     ]
    },
    {
     "cell_type": "heading",
     "level": 2,
     "metadata": {},
     "source": [
      "VPN, an example of both virtualization and Client/Server Model"
     ]
    },
    {
     "cell_type": "markdown",
     "metadata": {},
     "source": [
      "A virtual private network (VPN) is a kind of computer network virtualization. It extends a private network across a public network. A VPN works in the client/server model. A client using VPN need to connect to a VPN server to setup a virtual network access to a private network. <cite data-cite=\"wiki:vpn\"></cite>"
     ]
    },
    {
     "cell_type": "markdown",
     "metadata": {},
     "source": [
      "Because VPN is often used for security purpose, a centralized server makes the authorization and resource allocation easier."
     ]
    },
    {
     "cell_type": "heading",
     "level": 2,
     "metadata": {},
     "source": [
      "Docker"
     ]
    },
    {
     "cell_type": "markdown",
     "metadata": {},
     "source": [
      "\"Docker is an open-source project that automates the deployment of applications inside software containers, by providing an additional layer of abstraction and automation of operating system\u2013level virtualization on Linux. \"<cite data-cite=\"wiki:docker\"></cite>"
     ]
    },
    {
     "cell_type": "markdown",
     "metadata": {},
     "source": [
      "At the moment of writing this paper, Docker is still at its version 0.9, but the first official release should be coming soon."
     ]
    },
    {
     "cell_type": "markdown",
     "metadata": {},
     "source": [
      "The \"containers\" used by Docker is a metaphor from the containers on a docker ship. It's the standardized and lightweight environment to contain software services. Software developers can develop the software locally and put the software in the containers to deliver. Then the containers can be shipped to any platform and run just as the developer expected, as long as the platform has the Docker engine."
     ]
    },
    {
     "cell_type": "markdown",
     "metadata": {},
     "source": [
      "**The flexibility of delivery provided by Docker will be very important for small businesses, or in another term, the startup companies in the Internet industry in the next decades**. Because, usually, the small business cannot afford to have their own server environment. (It's a question whether any business should have their own server environment in the future.) They should be able to deliver quickly to any environment so that they are not limited by any vendor. Their ability to scale the service is also crucial to the small business. It will be a truly sadly story if their business opportunity suddenly shows up, but they cannot scale up to provide the service. With the virtualization provided by Docker and the cloud service, scaling becomes as simple as using docker to ship goods in containers from the workshop to the marketplace. "
     ]
    },
    {
     "cell_type": "heading",
     "level": 2,
     "metadata": {},
     "source": [
      "Virtualization for telecommunication infrastructure"
     ]
    },
    {
     "cell_type": "markdown",
     "metadata": {},
     "source": [
      "The mobile network is probably the fastest developing computer network in the world, and it's keep expanding. The number of mobile subscribers in the world is expected to be seven billion by 2016. This mean a large infrastructure behind it. Telecommunication technology is also developing very fast. New generation replaces old ones very quickly. Mobile operators have just done investment in the 3G network and now they have to switch to the 4G LTE network. The competition in the telecommunication makes the companies very cost sensitive. <cite data-cite=\"reduce\"></cite>\n",
      "\n",
      "Telecom can benefit from virtualization in many areas.\n",
      "\n",
      "The resource virtualization can balance the use of the telecommunication resource, increase the efficiency. The resource includes computing resource, bandwidth and radio network, etc.\n",
      "\n",
      "The virtual operation systems can make the telecom equipments to take the advantage of the emerging multi-core processors and without giving up their legacy software system completely and rewrite everything. <cite data-cite=\"reduce\"></cite>\n",
      "\n",
      "In the coming decades, the telecommunication operators and vendors with face even more competition than today. There are more players in this area, and there's even open source telecommunication software and hardware emerging. Therefore, be cost-efficient is very important. Virtualization will surely be one of the directions they will need to look at. "
     ]
    },
    {
     "cell_type": "heading",
     "level": 1,
     "metadata": {},
     "source": [
      "Conclusion"
     ]
    },
    {
     "cell_type": "markdown",
     "metadata": {},
     "source": [
      "Information hiding is essential in designing computer system. One way is to hide information horizontally, by assigning responsibilities to different roles in a distributed system. When one role is the centralized server, and another role is the client that request service from the server, we got a client/server model. There are other models when assigning responsibilities differently over the horizontal level. Usually, C/S model is simple and clear, but it cannot fulfill the need for highly dynamic distributed needs or high availability.\n",
      "\n",
      "Another way is to hide information vertical, by virtualizing the dependencies of an upper level implementation. Virtualization removes the dependency on the detail, so that it protects the upper level from the variation of its dependency. Virtualization doesn't come without cost, sometimes it makes the overall system performance optimization and troubleshooting very hard, and sometimes it leads to the speculative generality.\n",
      "\n",
      "When making architectural design decision of a computer system, we need to consider carefully on both dimensions."
     ]
    }
   ],
   "metadata": {}
  }
 ]
}