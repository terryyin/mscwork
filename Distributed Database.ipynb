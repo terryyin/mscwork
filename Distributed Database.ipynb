{
 "metadata": {
  "name": "",
  "signature": "sha256:312678059263ca667f4b7315ded8795ce8e9aa093ca83eb813f7a6016e062246"
 },
 "nbformat": 3,
 "nbformat_minor": 0,
 "worksheets": [
  {
   "cells": [
    {
     "cell_type": "markdown",
     "metadata": {},
     "source": [
      "On this Tuesday (November 11, 2014), in one day, the biggest online shopping store in China, Taobao, recorded 9.3 billion USD sales. In the first minute of this \"Single Day sales\", it recorded 19 million USD sales. What kind of database can process data flow like this?"
     ]
    },
    {
     "cell_type": "markdown",
     "metadata": {},
     "source": [
      "Before we analyze why certain distributed database is desired in some stituation, it's important to remember the following numbers <cite data-cite=\"latenc\"></cite>."
     ]
    },
    {
     "cell_type": "markdown",
     "metadata": {},
     "source": [
      "**Latency Comparison Numbers**\n",
      "\n",
      "```\n",
      "Main memory reference                       100   ns             20x L2 cache, 200x L1 cache\n",
      "Send 1K bytes over 1 Gbps network        10,000   ns    0.01 ms\n",
      "Read 1 MB sequentially from memory      250,000   ns    0.25 ms\n",
      "Round trip within same datacenter       500,000   ns    0.5  ms\n",
      "Read 1 MB sequentially from SSD       1,000,000   ns    1    ms  4X memory\n",
      "Disk seek                            10,000,000   ns   10    ms  20x datacenter roundtrip\n",
      "Read 1 MB sequentially from disk     20,000,000   ns   20    ms  80x memory, 20X SSD\n",
      "Send packet CA->Netherlands->CA     150,000,000   ns  150    ms\n",
      "```\n",
      "\n",
      "**Notes**\n",
      "\n",
      "* 1 ns = 10<sup>-9</sup> seconds\n",
      "* 1 ms = 10<sup>-3</sup> seconds"
     ]
    },
    {
     "cell_type": "heading",
     "level": 1,
     "metadata": {},
     "source": [
      "Motivations of Using Distributed Database"
     ]
    },
    {
     "cell_type": "heading",
     "level": 2,
     "metadata": {},
     "source": [
      "Capacity"
     ]
    },
    {
     "cell_type": "markdown",
     "metadata": {},
     "source": [
      "The most basic database structure of Twitter could be as simple as only two tables, one for the users, the other for their twits. If you are a frequent twitter user, you must have seen this picture before. So what makes it so complicated to deal with only two tables?\n",
      "\n",
      "<img src=\"resources/twitter.jpg\" width=\"30%\">\n",
      "\n",
      "The biggest challenge is the tables are too big, and keep growing. In the beginning probably a plain text file is enough to keep all the twits. Next it need a centralized database. When the table grew too big, they might need a separate database for each table. But when the table grew too big, they would need to split the table. There are basically two ways of splitting a table into a distributed database <cite data-cite=\"wiki:ddb\"></cite>:\n",
      "\n",
      "* **Horizontal fragmentation** is to split the columns of the table into different databases.\n",
      "* **Vertical fragmentation**  is to split the records of the table into different databases."
     ]
    },
    {
     "cell_type": "markdown",
     "metadata": {},
     "source": [
      "From the table of latency at the beginning of this paper we can see, if we only want capacity, the databases need to be inside one building or at least within the same data center. Otherwise the latency would make the database access on the same table too slow."
     ]
    },
    {
     "cell_type": "heading",
     "level": 2,
     "metadata": {},
     "source": [
      "Low Latency and High Availability"
     ]
    },
    {
     "cell_type": "markdown",
     "metadata": {},
     "source": [
      "Traditionally, a database need to have the ACID properties <cite data-cite=\"wiki:acid\">:"
     ]
    },
    {
     "cell_type": "markdown",
     "metadata": {},
     "source": [
      "* A-atomicity, the transaction with either be fully successful, or leave no influence.\n",
      "* C-consistency, maintain the data integrity all the time.\n",
      "* I-isolation, during the transaction, the related data are not changing.\n",
      "* D-durability, the data is safe."
     ]
    },
    {
     "cell_type": "markdown",
     "metadata": {},
     "source": [
      "The challenge of ACID is when database scales up it becomes very hard to maintain them all. So sometimes people use a different CAP theorem for distributed database <cite data-cite=\"brewer2012pushing\"></cite>. The CAP theorem says in a distributed DBMS, if you cannot have all the ACID, you can have two of the three interesting properties of a DBMS. These three properties are:"
     ]
    },
    {
     "cell_type": "markdown",
     "metadata": {},
     "source": [
      "* **Consistency** your data is correct all the time. Everyone accessing the database gets the same result.\n",
      "* **Availability** you can read and write your data all the time.\n",
      "* **Partition Tolerance** if one or more nodes fails the system still works and becomes consistent when the system comes on-line."
     ]
    },
    {
     "cell_type": "markdown",
     "metadata": {},
     "source": [
      "Put it in another word, you can get the other two properties by giving up one of the three. For example, if we don't ask for consistency all the time, then it's easier to get high availability and partition tolerance. We can replay consistency with something called **eventual consistency**. For example, it is OK if each person reviewing twitter from a different side of the planet might see slightly different twits even if the are reviewing the same thing for a short period like several minutes."
     ]
    },
    {
     "cell_type": "markdown",
     "metadata": {},
     "source": [
      "Because we no longer require all the ACID properties, it is OK if our database is distributed across the whole country or even worldwide. We want the first level database get closer to the users, so it is common to have one or multiple databases in every country or city that we want the users having a better experience from there."
     ]
    },
    {
     "cell_type": "heading",
     "level": 2,
     "metadata": {},
     "source": [
      "Protecting Data"
     ]
    },
    {
     "cell_type": "markdown",
     "metadata": {},
     "source": [
      "Another motivation of using a distributed database is to protect the data. In engineering, the most common (if not the only) way of increasing reliability is by increasing the redundancy <cite data-cite=\"wiki:redundancy\"></cite>. By replicating the data in different geographical locations, we can protect the data from corruption by multiple reasons, e.g. a disaster."
     ]
    },
    {
     "cell_type": "markdown",
     "metadata": {},
     "source": [
      "Big companies usually have multiple data centers worldwide. One of the motivation is to protect their data. One interesting finding is to mirror the data between data centers is very costly. As the founding CEO of Docker Solomon Hykes said: "
     ]
    },
    {
     "cell_type": "markdown",
     "metadata": {},
     "source": [
      "> \"I feel it's embarrassing, personally, that on average it will take more time and energy to get a collection of software from one data center to the next than it is to ship physical goods from on side of the planet to another. <cite data-cite=\"dockerceo\"></cite>\""
     ]
    },
    {
     "cell_type": "heading",
     "level": 1,
     "metadata": {},
     "source": [
      "Conclusion"
     ]
    },
    {
     "cell_type": "markdown",
     "metadata": {},
     "source": [
      "In the age of big data, we often need a distributed database rather than a local database. The reasons we need distributed database includes capacity, low latency, high availability and protecting data. Based on the different need we may choose different geographical distribution. Given the current trend of the IT industry, it more about which data center providers to choose, and what kind of server distribution plan we want from these data center providers."
     ]
    }
   ],
   "metadata": {}
  }
 ]
}