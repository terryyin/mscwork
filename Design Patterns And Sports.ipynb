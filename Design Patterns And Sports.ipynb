{
 "metadata": {
  "name": "",
  "signature": "sha256:7a18bf5ba153ec6b3585e65c115d558c07f61a9c2790c6222c443f46350d06a4"
 },
 "nbformat": 3,
 "nbformat_minor": 0,
 "worksheets": [
  {
   "cells": [
    {
     "cell_type": "markdown",
     "metadata": {},
     "source": [
      "Is this the juggle around the MacRitchie Reservoir?\n",
      "\n",
      "<img src=\"resources/broc.jpg\" width=\"30%\">\n",
      "\n",
      "No, it's the broccoli I'm going to have for dinner. It seems when the nature finds an effective pattern, it tends to use it again and again. But another way of looking at it is, this is a pattern that best serves a type of needs in the nature.\n",
      "\n",
      "In software engineering, we have design patterns. You can also see patterns in other human professional fields. Patterns are very common in sports. In this paper, we use the **professional basketball game** as an example to explain the software design patterns."
     ]
    },
    {
     "cell_type": "heading",
     "level": 1,
     "metadata": {},
     "source": [
      "Creational patterns"
     ]
    },
    {
     "cell_type": "markdown",
     "metadata": {},
     "source": [
      "Two NBA teams in Los Angeles, the Lakers and the Clippers, both use the Staples Center as their home stadium. The Staples Center is also the home to the Los Angeles Kings and the Los Angeles Avengers, which are ice hockey team and arena football team respectively <cite data-cite=\"wiki:staples\"></cite>. So the stadium will need to change the floor to a basketball court, an ice hockey court or an arena football court frequently. Sharing stadium is a common pattern in professional sports. The teams do not need to care about the courts (most of the time). They just use them and play the games. Kobe Bryant doesn't know how to change the floor. He only knows how to win the games. The setup of the stadium is taken care by another party.\n",
      "\n",
      "In software, we have the **creational patterns** doing the same thing <cite data-cite=\"gamma1994design\"></cite>. They separate the construction from the usage."
     ]
    },
    {
     "cell_type": "heading",
     "level": 1,
     "metadata": {},
     "source": [
      "Structural patterns"
     ]
    },
    {
     "cell_type": "markdown",
     "metadata": {},
     "source": [
      "In a basketball game, the same rules are applied to all the players <cite data-cite=\"wiki:basketball\"></cite> (unless you play it with my daughter). The rules for the centers are the same rules for the guards. But almost all basketball teams adopt a pattern of having the center, front and guard roles. And each role on the court has quite different responsibilities in playing the game. From this example, we can see that **patterns are not rules**."
     ]
    },
    {
     "cell_type": "markdown",
     "metadata": {},
     "source": [
      "In software design patterns, we also have similar **structural patterns**. They organize things."
     ]
    },
    {
     "cell_type": "heading",
     "level": 1,
     "metadata": {},
     "source": [
      "Behavioral patterns"
     ]
    },
    {
     "cell_type": "markdown",
     "metadata": {},
     "source": [
      "Within the basic basketball rules, you can do whatever you need to play the game. But there are lots of common patterns. These patterns are so common that when you learn to play basketball, most of the time you learn these patterns rather than the rules. For example, the **Crossover Dribble Technique** is just one of the infinite ways of dribbling within the rules. But since it's so useful and effective, people **gave it a name**. And because it has a name, now we can talk about it and teach it. There are also patterns involving more than one roles, e.g. the **pick and roll** and maybe the **triangle offense**."
     ]
    },
    {
     "cell_type": "markdown",
     "metadata": {},
     "source": [
      "In software, we also have the **behavioral patterns** for the common communication patterns between objects."
     ]
    },
    {
     "cell_type": "heading",
     "level": 1,
     "metadata": {},
     "source": [
      "Conclusion"
     ]
    },
    {
     "cell_type": "markdown",
     "metadata": {},
     "source": [
      "Software design patterns could learn from the patterns in sports:\n",
      "\n",
      "* Separate the concerns\n",
      "* Patterns are not rules.\n",
      "* Give a pattern a name, so that we can talk about it and teach it.\n",
      "\n",
      "But both sports and software engineering need to learn from the patterns in the nature. It's not that the nature have to use the patterns. A pattern is the result of a common need. As Joshua Kerievsky said <cite data-cite=\"kerievsky2005refactoring\"></cite>:\n",
      "\n",
      "> If you\u2019d like to become a better software designer, studying the evolution of great software designs will be more valuable than studying the great designs themselves. For it is in the evolution that the real wisdom lies."
     ]
    }
   ],
   "metadata": {}
  }
 ]
}