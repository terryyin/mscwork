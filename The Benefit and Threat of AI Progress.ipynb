{
 "metadata": {
  "name": "",
  "signature": "sha256:1bcecceac4f0323b8393aeef196dc23d92ffeab4ab1720150307c0b72b2bd210"
 },
 "nbformat": 3,
 "nbformat_minor": 0,
 "worksheets": [
  {
   "cells": [
    {
     "cell_type": "heading",
     "level": 1,
     "metadata": {},
     "source": [
      "What is Artificial intelligence"
     ]
    },
    {
     "cell_type": "markdown",
     "metadata": {},
     "source": [
      "Autonomation, or Jidoka, is an \"intelligent automation\". It's invented by Sakichi Toyoda, the founder of the Toyota Group. He invented numerous weaving devices, including the automatic loom. In 1924, he invented the Type-G Toyoda Automatic Loom, which outperform all the other automatic looms. By the time, the automatic looms from other countries were already very fast. But Toyoda's loom has a unique feature. The loom stopped when a problem arose, and so that no defective products were produced. A human operator would need to come and fix the problem. A machine that knew when to stop, outperform the machine that didn't. (Story from <cite data-cite=\"liker2006toyota\"></cite>)"
     ]
    },
    {
     "cell_type": "markdown",
     "metadata": {},
     "source": [
      "The above story tells us, real intelligence is not being productive or strong. Real intelligence is having the ability to see and solve problems. The above mentioned loom is not an intelligent machine, it still takes an intelligent person to solve the problem. In computer sciences, people are trying very hard to give a machine the intelligence like human have, or even beyond human."
     ]
    },
    {
     "cell_type": "heading",
     "level": 1,
     "metadata": {},
     "source": [
      "The human-machine relationship"
     ]
    },
    {
     "cell_type": "markdown",
     "metadata": {},
     "source": [
      "Machine that can make decisions can be a good helper for human. Machine that can make decisions can also instruct people."
     ]
    },
    {
     "cell_type": "heading",
     "level": 2,
     "metadata": {},
     "source": [
      "AI is changing the human-machine relationship"
     ]
    },
    {
     "cell_type": "markdown",
     "metadata": {},
     "source": [
      "Computer chess survived all the **AI winters** <cite data-cite=\"wiki:aiwinter\"></cite>. AI winter is a period of time when people lost their interest in AI and reduced its funding. Computer chessing is also used as a measurement of the prograss of AI area <cite data-cite=\"ensmenger2011chess\"></cite>. In some simple games, like Reversi, computer AI is already a lot better than the human players. In chess, computer AI just became better than human. But in more complicated games like Go, AI is still about the same as normal human player. In more complicated areas other than gaming, e.g. translation and handwriting recognition, AI is still not as good as human."
     ]
    },
    {
     "cell_type": "markdown",
     "metadata": {},
     "source": [
      "There's another type of computer chessing, named Advanced Chess <cite data-cite=\"wiki:advancedchess\"></cite>, which is a new type of chess game that human and computers team up. The human and computer team is stronger in chessing than human or computer alone."
     ]
    },
    {
     "cell_type": "markdown",
     "metadata": {},
     "source": [
      "Human-based computation <cite data-cite=\"wiki:humancomputation\"></cite>, moves this even further. Traditionally, it's a human employs a computer to solve problem for him. Human-based computation is the opposite, which is a computer employs human to work for it. Human and computer each has different strength. Human can easily recognize handwriting, computer cannot. If a computer outsources its handwriting reading job to a human, then it can achieve a lot more with its own strength in other areas."
     ]
    },
    {
     "cell_type": "heading",
     "level": 2,
     "metadata": {},
     "source": [
      "The danger of AI"
     ]
    },
    {
     "cell_type": "markdown",
     "metadata": {},
     "source": [
      "The threat from an intelligent machine can be simply categorized as:\n",
      "\n",
      "* Human misuses computer\n",
      "* Computer misuses human"
     ]
    },
    {
     "cell_type": "markdown",
     "metadata": {},
     "source": [
      "When computer is just a tool, people can use it for good or for evil. But will a computer misuse human? Although it still sounds fictional, the chance is getting higher and higher. The Google driverless car <cite data-cite=\"wiki:car\"></cite> is one step towards giving more decisions to the machine over human. What will happen when the car has its own thinking?"
     ]
    },
    {
     "cell_type": "heading",
     "level": 1,
     "metadata": {},
     "source": [
      "AI behind the scenes"
     ]
    },
    {
     "cell_type": "markdown",
     "metadata": {},
     "source": [
      "Instead of building the smart human-like robot, a lot of AI breakthroughs are in the areas that behind the scenes, for example, in search engine, voice recognition, data mining etc. The Intelligent Agents praradigm is advancing quite fast recently <cite data-cite=\"[462]brookshear1997computer\"></cite>. They help people in many areas. "
     ]
    },
    {
     "cell_type": "markdown",
     "metadata": {},
     "source": [
      "These AI behind the scenes are not very likely to misues human, because they are mostly a tool or part of a larger system. But the power it brings to people could also be a threat to other people. The smart searching could be used to interogation the pravicy of people. Data mining quite often start from collecting personal information <cite data-cite=\"ohm2012don\"></cite>."
     ]
    },
    {
     "cell_type": "heading",
     "level": 1,
     "metadata": {},
     "source": [
      "Conclusion"
     ]
    },
    {
     "cell_type": "markdown",
     "metadata": {},
     "source": [
      "People's expectation about AI has always been very high. But the progress of AI study has not always been meeting people's expectation. There has been a couple of AI winters. The study of AI has been more realistic in the recent years. With more solid founding theories and the emerging areas like data mining and machine learning, we are facing great opportunity and risk in the future to have another intelligent being side by side with the human beings."
     ]
    }
   ],
   "metadata": {}
  }
 ]
}