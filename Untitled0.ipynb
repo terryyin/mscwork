{
 "metadata": {
  "name": "",
  "signature": "sha256:0267e58aec4b7e4453895d89d31edf601b5d7361f2c43ee0655bfdb901099a3d"
 },
 "nbformat": 3,
 "nbformat_minor": 0,
 "worksheets": [
  {
   "cells": [
    {
     "cell_type": "code",
     "collapsed": false,
     "input": [
      "import re\n",
      "def convert_line(line):\n",
      "    ratio = 0.74\n",
      "    def convert_numbers(parsed):\n",
      "        return \"\"+str(int((int(parsed.group(1)) + 7)*ratio))+\",\"+str(int((int(parsed.group(2)) + 1)*ratio))\n",
      "    return re.sub(r\"(\\d+),(\\d+)\", convert_numbers, line)\n"
     ],
     "language": "python",
     "metadata": {},
     "outputs": [],
     "prompt_number": 23
    },
    {
     "cell_type": "code",
     "collapsed": false,
     "input": [
      "with open(\"/Users/terry/temp/framework.map\") as f:\n",
      "    with open(\"/Users/terry/git/less-site/jekyll/_includes/framework.map\", \"w\") as fw:\n",
      "         fw.write(\"\\n\".join(convert_line(line) for line in f.readlines()))"
     ],
     "language": "python",
     "metadata": {},
     "outputs": [],
     "prompt_number": 24
    },
    {
     "cell_type": "code",
     "collapsed": false,
     "input": [
      "assert convert_line(\"\") == \"\"\n",
      "print convert_line('1147,493')\n",
      "assert convert_line('1147,493') == \"4,5\""
     ],
     "language": "python",
     "metadata": {},
     "outputs": [
      {
       "output_type": "stream",
       "stream": "stdout",
       "text": [
        "847,393\n"
       ]
      },
      {
       "ename": "AssertionError",
       "evalue": "",
       "output_type": "pyerr",
       "traceback": [
        "\u001b[0;31m---------------------------------------------------------------------------\u001b[0m\n\u001b[0;31mAssertionError\u001b[0m                            Traceback (most recent call last)",
        "\u001b[0;32m<ipython-input-46-214860f0a549>\u001b[0m in \u001b[0;36m<module>\u001b[0;34m()\u001b[0m\n\u001b[1;32m      1\u001b[0m \u001b[0;32massert\u001b[0m \u001b[0mconvert_line\u001b[0m\u001b[0;34m(\u001b[0m\u001b[0;34m\"\"\u001b[0m\u001b[0;34m)\u001b[0m \u001b[0;34m==\u001b[0m \u001b[0;34m\"\"\u001b[0m\u001b[0;34m\u001b[0m\u001b[0m\n\u001b[1;32m      2\u001b[0m \u001b[0;32mprint\u001b[0m \u001b[0mconvert_line\u001b[0m\u001b[0;34m(\u001b[0m\u001b[0;34m'1147,493'\u001b[0m\u001b[0;34m)\u001b[0m\u001b[0;34m\u001b[0m\u001b[0m\n\u001b[0;32m----> 3\u001b[0;31m \u001b[0;32massert\u001b[0m \u001b[0mconvert_line\u001b[0m\u001b[0;34m(\u001b[0m\u001b[0;34m'1147,493'\u001b[0m\u001b[0;34m)\u001b[0m \u001b[0;34m==\u001b[0m \u001b[0;34m\"4,5\"\u001b[0m\u001b[0;34m\u001b[0m\u001b[0m\n\u001b[0m",
        "\u001b[0;31mAssertionError\u001b[0m: "
       ]
      }
     ],
     "prompt_number": 46
    },
    {
     "cell_type": "code",
     "collapsed": false,
     "input": [
      "help(re.sub)"
     ],
     "language": "python",
     "metadata": {},
     "outputs": [
      {
       "output_type": "stream",
       "stream": "stdout",
       "text": [
        "Help on function sub in module re:\n",
        "\n",
        "sub(pattern, repl, string, count=0, flags=0)\n",
        "    Return the string obtained by replacing the leftmost\n",
        "    non-overlapping occurrences of the pattern in string by the\n",
        "    replacement repl.  repl can be either a string or a callable;\n",
        "    if a string, backslash escapes in it are processed.  If it is\n",
        "    a callable, it's passed the match object and must return\n",
        "    a replacement string to be used.\n",
        "\n"
       ]
      }
     ],
     "prompt_number": 37
    },
    {
     "cell_type": "markdown",
     "metadata": {},
     "source": [
      "```html\n",
      "\n",
      "<!DOCTYPE html>\n",
      "<html>\n",
      "    <head>\n",
      "        <title>TODO supply a title</title>\n",
      "        <meta charset=\"UTF-8\">\n",
      "        <meta name=\"viewport\" content=\"width=device-width, initial-scale=1.0\">\n",
      "        <style>\n",
      "            table td {\n",
      "                    width:200px;\n",
      "                    height:200px;\n",
      "                    text-align: center;\n",
      "                    background-color: teal;\n",
      "            }\n",
      "            table td:before {\n",
      "                    content: \"hello world!\"\n",
      "            }\n",
      "            \n",
      "            table tr:first-child td:first-child {\n",
      "                background-color: red;\n",
      "            }\n",
      "\n",
      "            table tr:first-child td {\n",
      "                background-color: yellow;\n",
      "            }\n",
      "\n",
      "            table td:first-child {\n",
      "                background-color: blue;\n",
      "            }\n",
      "\n",
      "        </style>\n",
      "    </head>\n",
      "    <body>\n",
      "        <table class=\"colored-hellos\">\n",
      "            <tr><td class=\"c1\"></td><td></td></tr>\n",
      "            <tr><td></td><td></td></tr>\n",
      "        </table>\n",
      "    </body>\n",
      "</html>\n",
      "\n",
      "\n",
      "```"
     ]
    },
    {
     "cell_type": "code",
     "collapsed": false,
     "input": [],
     "language": "python",
     "metadata": {},
     "outputs": []
    }
   ],
   "metadata": {}
  }
 ]
}