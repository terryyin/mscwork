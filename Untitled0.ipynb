{
 "metadata": {
  "name": "",
  "signature": "sha256:7725993a9560e4bf22dd61fafcb77a30b08adff46fc11502d8f5044184c0a15e"
 },
 "nbformat": 3,
 "nbformat_minor": 0,
 "worksheets": [
  {
   "cells": [
    {
     "cell_type": "markdown",
     "metadata": {},
     "source": [
      "The difference between a bus and a star network is rather conceptual than practical"
     ]
    }
   ],
   "metadata": {}
  }
 ]
}