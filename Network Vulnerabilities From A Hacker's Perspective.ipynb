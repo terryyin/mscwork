{
 "metadata": {
  "name": "",
  "signature": "sha256:bcdaae6ddd5b7299cae2787327798d16c09bc4428af207449a3c84b4b49a1f24"
 },
 "nbformat": 3,
 "nbformat_minor": 0,
 "worksheets": [
  {
   "cells": [
    {
     "cell_type": "heading",
     "level": 1,
     "metadata": {},
     "source": [
      "Benefit Of Thinking Like A Hacker"
     ]
    },
    {
     "cell_type": "markdown",
     "metadata": {},
     "source": [
      "A hacker is a person who solve problem by breaking things, or more commonly, \"A hacker is one who enjoys the intellectual challenge of creatively overcoming and circumventing limitations of programming systems and who tries to extend their capabilities.\" <cite data-cite=\"coleman2010anthropology\"></cite>"
     ]
    },
    {
     "cell_type": "markdown",
     "metadata": {},
     "source": [
      "So, a hacker knows how to break things. They know where to look for the unusual places in the system that can help them to achieve their goals. These unusual places are quite often security vulnerabilities of the system. On the other hand, a hacker doesn't follow the rules and dos not limited themselves with any \"security models\". This means, we may find network vulnerabilities more efficiently by thinking like a hacker."
     ]
    },
    {
     "cell_type": "heading",
     "level": 1,
     "metadata": {},
     "source": [
      "How Hackers Find Vulnerabilities"
     ]
    },
    {
     "cell_type": "heading",
     "level": 2,
     "metadata": {},
     "source": [
      "The Quantity Makes The Difference"
     ]
    },
    {
     "cell_type": "markdown",
     "metadata": {},
     "source": [
      "The abstraction in Computer Science is a simplified specification about how something should work. The purpose of having an abstraction is to build other systems based on it without caring the details under it. There are some systems normally work perfectly according to the abstractions. But when the quantities that are handled by these systems exceed certain points, the abstractions will stop working. A hacker is aware and interested in the differences bring by the quantities."
     ]
    },
    {
     "cell_type": "markdown",
     "metadata": {},
     "source": [
      "**The Distributed Denial-of-Service attack** <cite data-cite=\"[DDoS]wiki:dos\"></cite> is one of the examples where quantity makes a difference. A server on the Internet might work fine when all the visits are from limited and intended users. But when there are too many requests, the server might not have enough resource to handle them in time. A DDoS attack is to use many computers on the network to send lots and lots of requests to the victim server so that it becomes unavailable to the intended users."
     ]
    },
    {
     "cell_type": "markdown",
     "metadata": {},
     "source": [
      "**Buffer Overflow** <cite data-cite=\"wiki:overflow\"></cite> is another example. When the memory buffer that a computer program reserved for holding a certain input is not big enough, the input data might be written to the adjacent memory. Thus will trigger unexpected behavior from the program, or even the entire system. Hacks know how to use these overflowed data to manipulate the program and eventually take over the control."
     ]
    },
    {
     "cell_type": "heading",
     "level": 2,
     "metadata": {},
     "source": [
      "When Quantify Is Not Their Friend, Time Is"
     ]
    },
    {
     "cell_type": "markdown",
     "metadata": {},
     "source": [
      "Quantity is not always the friend of hackers, but hackers know how to deal with it. Sometimes, quantity is the challenge for a hacker. For example, to guess a password is very hard, because there are too many (not infinite, though) possibilities. A hacker might use a **Brutal Force** approach to crack it. For example, they may use a \"dictionary\" of common password people often use to try them one by one."
     ]
    },
    {
     "cell_type": "markdown",
     "metadata": {},
     "source": [
      "You might think that's not possible because typically a system will deny a user from trying to login after several failed attempts. But hackers can take the encrypted information \"home\", and crack the password by these encrypted information at \"home\". And they will come back only when they have a seemingly right password. So time actually becomes their friend."
     ]
    },
    {
     "cell_type": "heading",
     "level": 2,
     "metadata": {},
     "source": [
      "When The Others See The Abstractions They See The Details"
     ]
    },
    {
     "cell_type": "markdown",
     "metadata": {},
     "source": [
      "Normally, engineers view the system as layers of abstractions. A computer network is a good example. But a hacker won't think in layers. From their perspective, a computer system is just lots of detailed technologies that together makes things happen."
     ]
    },
    {
     "cell_type": "markdown",
     "metadata": {},
     "source": [
      "A hacker might use the **ARP spoofing** <cite data-cite=\"[p.176]brookshear1997computer\"></cite> to send fake data over the low level ARP message over the Local Area Network. Then a flawless service that depends on the high level TCP will be compromised by this attack. "
     ]
    },
    {
     "cell_type": "markdown",
     "metadata": {},
     "source": [
      "Say, a bored hacker stuck in an airport and couldn't afdord the Internet fee, but he found the DNS service is available in the wireless network without signing in. The lack of resource might be a problem for a hacker, but the lack of abstraction isn't! The hacker might build a TCP/IP layer over the DNS service and start surfing the free Internet. <cite data-cite=\"[DNS Tunneling]merlo2011comparative\"></cite>"
     ]
    },
    {
     "cell_type": "markdown",
     "metadata": {},
     "source": [
      "Another example is SQL Injection <cite data-cite=\"wiki:sql\"></cite>. When most people see the fields in a Web form as \"user name\", \"email address\", \"phone number\", a hacker might see them just as SQL code snippets."
     ]
    },
    {
     "cell_type": "heading",
     "level": 2,
     "metadata": {},
     "source": [
      "Side-effects"
     ]
    },
    {
     "cell_type": "markdown",
     "metadata": {},
     "source": [
      "Hackers like side-effects and know how to use them."
     ]
    },
    {
     "cell_type": "markdown",
     "metadata": {},
     "source": [
      "The **Heartbleed** bug is revealed in April 2014 in the OpenSSL cryptography library <cite data-cite=\"wiki:heartbleed\"></cite>. OpenSSL library is widely used in the services on the Internet. This software bug allows more data to be read then needed. So the client will receive some extra \"random\" data from the server. Because the data area in the server memory is used for keeping user private information, the extra data is not really \"random\" and might include information that the current user is not granted to access, including the other user's information. This is a side-effect that will interest a hacker."
     ]
    },
    {
     "cell_type": "markdown",
     "metadata": {},
     "source": [
      "A network equipment in a telecom service provider's computer center might have a USB port. The USB port was designed for uploading and downloading files. But the USB driver in the network equipment could be from some open source software, which doesn't only do file transfer but can also connect a USB sound card. The file transfer feature might be well tested, but the sound card feature is useless. A hacker can utilize the bugs in the USB sound card driver, and hack the entire network equipment by secretly plugging in a small USB device. Nobody would ever notice."
     ]
    },
    {
     "cell_type": "markdown",
     "metadata": {},
     "source": [
      "The above examples showed the vulnerabilities brought by unwanted side-effects. So making a computer system shouldn't just involve adding wanted features, but also removing unwanted feature. The process of reducing unwanted side-effect is called **hardening** <cite data-cite=\"kopp1997hardening\"></cite>."
     ]
    },
    {
     "cell_type": "heading",
     "level": 1,
     "metadata": {},
     "source": [
      "Does A Hacker Hack Herself?"
     ]
    },
    {
     "cell_type": "markdown",
     "metadata": {},
     "source": [
      "The verb or action \"hack\" in computer security means \"to break into computers and computer networks\"; in computer science, it means \"an inelegant but effective solution to a computing problem\" <cite data-cite=\"wiki:hack\"></cite>. So when we are talking about creating your own solution, we should take the second meaning."
     ]
    },
    {
     "cell_type": "markdown",
     "metadata": {},
     "source": [
      "So, no, a hacker won't hack herself. Because a hacker solves problem rather than creating more problems and they always seek to become better <cite data-cite=\"[How To Become A Hacker]raymond2003become\"></cite>. A hacker knows the importance of an elegant solution. She has read too much ugly code that's vulnerable."
     ]
    },
    {
     "cell_type": "heading",
     "level": 1,
     "metadata": {},
     "source": [
      "Conclusion"
     ]
    },
    {
     "cell_type": "markdown",
     "metadata": {},
     "source": [
      "To create a less vulnerable computer network system, we should not only think like a hacker but also work like a hacker. Hackers do not limit themselves by any models, and network vulnerabilities can be anywhere. Hackers have sharp eyes to see through abstractions, and they don't let side-effects go easily. Hackers don't hack their work."
     ]
    }
   ],
   "metadata": {}
  }
 ]
}