{
 "metadata": {
  "name": "",
  "signature": "sha256:59b3fef9322227e56ff2079a2f2a72d5149896d3113af452cde3a47f0f17c3a4"
 },
 "nbformat": 3,
 "nbformat_minor": 0,
 "worksheets": [
  {
   "cells": [
    {
     "cell_type": "markdown",
     "metadata": {},
     "source": [
      "Option 1: Numbers. Your algorithm should:\n",
      "\n",
      "* Search a string of at least five numbers (for example, 37540)\n",
      "* Identify all of the substrings that form numbers that are divisible by 3.\n",
      "* For example, applying the algorithm on the string 37540 should produce the following substrings (not necessarily in this order): 0; 3; 75; 54; 375; 540."
     ]
    },
    {
     "cell_type": "code",
     "collapsed": false,
     "input": [
      "def substrings_divisible_by_3(numberstring):\n",
      "    result = set()\n",
      "    for begin in range(0, len(numberstring)):\n",
      "        for end in range(begin+1, len(numberstring)+1):\n",
      "            subnumber = numberstring[begin:end]\n",
      "            if int(subnumber) % 3 == 0:\n",
      "                result.add(subnumber)\n",
      "    return result"
     ],
     "language": "python",
     "metadata": {},
     "outputs": [],
     "prompt_number": 39
    },
    {
     "cell_type": "markdown",
     "metadata": {},
     "source": [
      "Below are the tests I used to \"drive\" out and verify the above solution."
     ]
    },
    {
     "cell_type": "code",
     "collapsed": false,
     "input": [
      "# 1-number string that is not divisible by 3 should return empty\n",
      "assert substrings_divisible_by_3(\"1\") == set()\n",
      "# 1-number string that is divisible by 3 should return the number\n",
      "assert substrings_divisible_by_3(\"3\") == {\"3\"}\n",
      "# 2-number string with 1 number divisible by 3 should return that number\n",
      "assert substrings_divisible_by_3(\"62\") == {\"6\"}\n",
      "# 2-number string with both number divisible by 3 should return 3 numbers\n",
      "assert substrings_divisible_by_3(\"69\") == {\"6\", \"9\",\"69\"}\n",
      "# test the example\n",
      "assert substrings_divisible_by_3(\"37540\") == {\"0\", \"3\", \"75\", \"54\", \"375\", \"540\"}"
     ],
     "language": "python",
     "metadata": {},
     "outputs": [],
     "prompt_number": 40
    }
   ],
   "metadata": {}
  }
 ]
}