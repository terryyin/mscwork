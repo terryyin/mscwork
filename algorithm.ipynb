{
 "metadata": {
  "name": "",
  "signature": "sha256:01a975802e433a4ffb0af7ffd067e6973f6e7134c7650ae0c265b3fdea323f95"
 },
 "nbformat": 3,
 "nbformat_minor": 0,
 "worksheets": [
  {
   "cells": [
    {
     "cell_type": "markdown",
     "metadata": {},
     "source": [
      "I've done all the 3 options (I posted only one). Hopefully that won't give me any negative points as I'm not following the instruction technically. I'm a big fan of programming exercises. Just cannot stop.\n",
      "\n",
      "This paper is written in iPython Notebook <cite data-cite=\"PER-GRA:2007\"></cite>."
     ]
    },
    {
     "cell_type": "heading",
     "level": 1,
     "metadata": {},
     "source": [
      "Option 1: Numbers"
     ]
    },
    {
     "cell_type": "markdown",
     "metadata": {},
     "source": [
      "Your algorithm should:\n",
      "\n",
      "* Search a string of at least five numbers (for example, 37540)\n",
      "* Identify all of the substrings that form numbers that are divisible by 3.\n",
      "* For example, applying the algorithm on the string 37540 should produce the following substrings (not necessarily in this order): 0; 3; 75; 54; 375; 540."
     ]
    },
    {
     "cell_type": "markdown",
     "metadata": {},
     "source": [
      "My solution to the problem:"
     ]
    },
    {
     "cell_type": "code",
     "collapsed": false,
     "input": [
      "def substrings_divisible_by_3(numberstring):\n",
      "    result = set()\n",
      "    for begin in range(0, len(numberstring)):\n",
      "        for end in range(begin+1, len(numberstring)+1):\n",
      "            subnumber = numberstring[begin:end]\n",
      "            if int(subnumber) % 3 == 0:\n",
      "                result.add(subnumber)\n",
      "    return result"
     ],
     "language": "python",
     "metadata": {},
     "outputs": [],
     "prompt_number": 4
    },
    {
     "cell_type": "markdown",
     "metadata": {},
     "source": [
      "Below are the tests I used to \"drive\" out and verify the above solution."
     ]
    },
    {
     "cell_type": "code",
     "collapsed": false,
     "input": [
      "# 1-number string that is not divisible by 3 should return empty\n",
      "assert substrings_divisible_by_3(\"1\") == set()\n",
      "# 1-number string that is divisible by 3 should return the number\n",
      "assert substrings_divisible_by_3(\"3\") == {\"3\"}\n",
      "# 2-number string with 1 number divisible by 3 should return that number\n",
      "assert substrings_divisible_by_3(\"62\") == {\"6\"}\n",
      "# 2-number string with both number divisible by 3 should return 3 numbers\n",
      "assert substrings_divisible_by_3(\"69\") == {\"6\", \"9\",\"69\"}\n",
      "# test the example\n",
      "assert substrings_divisible_by_3(\"37540\") == {\"0\", \"3\", \"75\", \"54\", \"375\", \"540\"}"
     ],
     "language": "python",
     "metadata": {},
     "outputs": [],
     "prompt_number": 5
    },
    {
     "cell_type": "heading",
     "level": 1,
     "metadata": {},
     "source": [
      "Option 2: Word Search"
     ]
    },
    {
     "cell_type": "markdown",
     "metadata": {},
     "source": [
      "* Make a list of five words, 3-6 letters in length.\n",
      "* Create a string of approximately 30 letters containing some of the five words.\n",
      "* Your algorithm should identify all of the substrings of the longer string that match any of the five words you generated, and the number of times each one appears\n",
      "* For example: If you chose the words structure, such, system, blue, red, and your algorithm operates on the string jkdistructuredstrusyssystemoon, your algorithm should report that the string contains the words structure, red and system each one time, and the words such and blue zero times."
     ]
    },
    {
     "cell_type": "code",
     "collapsed": false,
     "input": [
      "def count_words(text, words):\n",
      "    result = {}\n",
      "    for word in words:\n",
      "        result[word] = text.count(word)\n",
      "    return result"
     ],
     "language": "python",
     "metadata": {},
     "outputs": [],
     "prompt_number": 14
    },
    {
     "cell_type": "markdown",
     "metadata": {},
     "source": [
      "Below are the tests:"
     ]
    },
    {
     "cell_type": "code",
     "collapsed": false,
     "input": [
      "# should return empty dict when counting no word\n",
      "assert count_words(\"a string of apporximately 30 letters.\", []) == {}\n",
      "# should count zero time when the string contains no word in the list\n",
      "assert count_words(\"a string of apporximately 30 letters.\", [\"precise\", \"1234\"]) == {\"precise\":0, \"1234\":0}\n",
      "# should count 1 when the string contains 1 word in the list once\n",
      "assert count_words(\"a string of apporximately 30 letters.\", [\"of\"]) == {\"of\":1}\n",
      "# acceptance\n",
      "assert count_words(\"jkdistructuredstrusyssystemoon\", [\"structure\", \"such\", \"system\", \"blue\", \"red\"]\n",
      "                   ) == {\"structure\":1, \"such\":0, \"system\":1, \"blue\":0, \"red\":1}"
     ],
     "language": "python",
     "metadata": {},
     "outputs": [],
     "prompt_number": 16
    },
    {
     "cell_type": "heading",
     "level": 1,
     "metadata": {},
     "source": [
      "Option 3: Consensus Algorithm"
     ]
    },
    {
     "cell_type": "markdown",
     "metadata": {},
     "source": [
      "Ten people need to decide which one flavour of ice they will order as a group. There are 3 types of ice cream from which to choose.\n",
      "\n",
      "* Design an algorithm which can survey and re-survey each person, with the goal of reaching consensus on one kind of ice cream. The algorithm can present answers to each person in the group until a consensus is reached.\n",
      "* This task is open-ended. You may make assumptions as needed. Explain these assumptions in your initial post.\n",
      "* Determine whether there are situations in which your algorithm may never result in an answer, and account for this when writing your pseudo-code."
     ]
    },
    {
     "cell_type": "heading",
     "level": 2,
     "metadata": {},
     "source": [
      "My Assumptions:"
     ]
    },
    {
     "cell_type": "markdown",
     "metadata": {},
     "source": [
      "My assumptions are shown below in the form of test cases."
     ]
    },
    {
     "cell_type": "code",
     "collapsed": false,
     "input": [
      "# if not survey answers are given to the algorithm, it should return all the options\n",
      "assert consensus_icecream_flavor(None) == {\"A\",\"B\",\"C\"}\n",
      "\n",
      "# if all the survey answers are the same, it should return consensus result\n",
      "assert consensus_icecream_flavor([\"A\",\"A\",\"A\",\"A\",\"A\",\"A\",\"A\",\"A\",\"A\",\"A\"]) == {\"A\"}\n",
      "\n",
      "# if different survey answers are given to the algorith,\n",
      "# it should return the options without the least favority one\n",
      "assert consensus_icecream_flavor([\"A\",\"A\",\"A\",\"A\",\"B\",\"B\",\"B\",\"B\",\"C\",\"C\"]) == {\"A\",\"B\"}\n",
      "\n",
      "# it should return all the options if there are more than one least favority flavor\n",
      "assert consensus_icecream_flavor([\"A\",\"A\",\"A\",\"A\",\"A\",\"A\",\"B\",\"B\",\"C\",\"C\"]) == {\"A\",\"B\", \"C\"}"
     ],
     "language": "python",
     "metadata": {},
     "outputs": [],
     "prompt_number": 37
    },
    {
     "cell_type": "heading",
     "level": 2,
     "metadata": {},
     "source": [
      "The solution derived from the above assumptions:"
     ]
    },
    {
     "cell_type": "code",
     "collapsed": false,
     "input": [
      "def consensus_icecream_flavor(answers):\n",
      "    if answers is None:\n",
      "        return {\"A\", \"B\", \"C\"}\n",
      "    \n",
      "    # get the votes of each flavor\n",
      "    votes = {}\n",
      "    for flavor in answers:\n",
      "        if flavor not in votes:\n",
      "            votes[flavor] = 0\n",
      "        votes[flavor] += 1\n",
      "    \n",
      "    # reach consensus\n",
      "    if len(votes) == 1:\n",
      "        return {answers[0]}\n",
      "    \n",
      "    # get the least favorite flavor\n",
      "    least_favorite = min(votes.values())\n",
      "    \n",
      "    # remove the least favorite flavor from the result\n",
      "    result = {flavor for flavor in votes if votes[flavor] != least_favorite}\n",
      "    \n",
      "    # more than one least favorite\n",
      "    if len(result) + 1 != len(votes):\n",
      "        result = {flavor for flavor in votes}\n",
      "    \n",
      "    return result"
     ],
     "language": "python",
     "metadata": {},
     "outputs": [],
     "prompt_number": 38
    },
    {
     "cell_type": "markdown",
     "metadata": {},
     "source": [
      "Below is the consensus algorithm in action:"
     ]
    },
    {
     "cell_type": "code",
     "collapsed": false,
     "input": [
      "def icecream_survey():\n",
      "    answers = None\n",
      "    while True:\n",
      "        options = consensus_icecream_flavor(answers)\n",
      "        if len(options) == 1:\n",
      "            return options[0]  # reach consensus\n",
      "        answers = []\n",
      "        for index in range(10):\n",
      "            answer = ask_to_choose_from_options(index, options)\n",
      "            answers.append(answer)"
     ],
     "language": "python",
     "metadata": {},
     "outputs": [],
     "prompt_number": 39
    },
    {
     "cell_type": "markdown",
     "metadata": {},
     "source": [
      "The sub-routine `ask_to_choose_from_options(index, options)` will ask the user of `index` to choose one option from the `options`, and return that option."
     ]
    },
    {
     "cell_type": "heading",
     "level": 2,
     "metadata": {},
     "source": [
      "Existing problems of this algorithm"
     ]
    },
    {
     "cell_type": "markdown",
     "metadata": {},
     "source": [
      "This algorithm will never end with an answer if two flavors constantly get the same amount of votes. It's the situation described as the last piece in the assumptions above."
     ]
    }
   ],
   "metadata": {}
  }
 ]
}